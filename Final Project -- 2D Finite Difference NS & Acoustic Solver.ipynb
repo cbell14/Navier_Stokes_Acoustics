{
 "metadata": {
  "name": "",
  "signature": "sha256:e88a8f031681cb7cc4ea347d032e3ee5e81b1c92d318aab8cd6561d4e5d77051"
 },
 "nbformat": 3,
 "nbformat_minor": 0,
 "worksheets": [
  {
   "cells": [
    {
     "cell_type": "markdown",
     "metadata": {},
     "source": [
      "Content was created by Christopher Bell for Professor Lorena Barba's MAE 6286 Numerical Methods at The George Washington University, 2014. References are listed at the end of this document.\n",
      "\n",
      "Text and code provided under a Creative Commons Attribution license, CC-BY. (c) Christopher Bell, 2014."
     ]
    },
    {
     "cell_type": "heading",
     "level": 1,
     "metadata": {},
     "source": [
      "2D Finite Difference Navier-Stokes & Acoustic Solver"
     ]
    },
    {
     "cell_type": "heading",
     "level": 2,
     "metadata": {},
     "source": [
      "Problem Motivation"
     ]
    },
    {
     "cell_type": "markdown",
     "metadata": {},
     "source": [
      "I choose this problem for two reasons, my desire to write a Navier-Stokes solver and to advanced a project set forth in my undergraduate fluids class. The problem I will be investigating is the effect of buffetting over an open cavity. Most people are familair with this problem from opening their cars sunroof on the highway and hearing that annoying sound. The goal of this project is to model the physics of that system by using a Navier-Stokes solver with acoustics to model cavity flow. The code will begin with a derivation and implementation of the Navier-Stokes solver to get that working before adding the acoustics after."
     ]
    },
    {
     "cell_type": "heading",
     "level": 3,
     "metadata": {},
     "source": [
      "2D Navier-Stokes Derivation"
     ]
    },
    {
     "cell_type": "markdown",
     "metadata": {},
     "source": [
      "The Navier-Stokes equations and continuity are defined as:\n",
      "\n",
      "$$\\frac{\\partial{\\vec{v}}}{\\partial{t}}+\\left(\\vec{v} \\cdot \\nabla \\right)\\vec{v} = \\frac{-1}{\\rho} \\nabla P + \\nu \\nabla^2 \\vec{v}$$\n",
      "\n",
      "$$\\nabla \\cdot \\vec{v} = 0$$\n",
      "\n",
      "Due to the lagrangian and laplace operators this equation obviously represents a 3D system; however, for simplicity the z-direction will be ignored and the equations will be solved in 2D."
     ]
    },
    {
     "cell_type": "heading",
     "level": 4,
     "metadata": {},
     "source": [
      "2D Burgers Equation Derivation & Discretization"
     ]
    },
    {
     "cell_type": "markdown",
     "metadata": {},
     "source": [
      "The momentum equation above represents the Burgers Equation in 2D with an additional pressure term. That means we can use what we did in Module 2-04 in deriving the Burgers Equation in 1D but extend it to 2D. The only addition we need to make is a source term. The Cavity Flow will be set up as pressure driven flow and thus a source term, $F$, will be added to the $u$-direction (flow will be left to right the same as the x-direction and y will be perpendicular to the flow direction) equations to model this.\n",
      "\n",
      "Burgers Equation in 2D without our additional forcing term is:\n",
      "\n",
      "$$\\frac{\\partial u}{\\partial t}+u\\frac{\\partial u}{\\partial x}+v\\frac{\\partial u}{\\partial y}=\\nu\\left(\\frac{\\partial^2 u}{\\partial x^2}+\\frac{\\partial^2 u}{\\partial y^2}\\right)+F$$\n",
      "\n",
      "Incorporating the pressure term and rewritting the equations for each dimension yields:\n",
      "\n",
      "$$\\frac{\\partial u}{\\partial t}+u\\frac{\\partial u}{\\partial x}+v\\frac{\\partial u}{\\partial y}=-\\frac{1}{\\rho}\\frac{\\partial p}{\\partial x}+\\nu\\left(\\frac{\\partial^2 u}{\\partial x^2}+\\frac{\\partial^2 u}{\\partial y^2}\\right)+F$$\n",
      "\n",
      "$$\\frac{\\partial v}{\\partial t}+u\\frac{\\partial v}{\\partial x}+v\\frac{\\partial v}{\\partial y}=-\\frac{1}{\\rho}\\frac{\\partial p}{\\partial y}+\\nu\\left(\\frac{\\partial^2 v}{\\partial x^2}+\\frac{\\partial^2 v}{\\partial y^2}\\right)$$\n"
     ]
    },
    {
     "cell_type": "markdown",
     "metadata": {},
     "source": [
      "Once again as we did in Module 2-04 we will model the Burgers Equation using a forward time backward space scheme. This yields:\n",
      "\n",
      "$$\\frac{u_{i,j}^{n+1}-u_{i,j}^{n}}{\\Delta t}+u_{i,j}^{n}\\frac{u_{i,j}^{n}-u_{i-1,j}^{n}}{\\Delta x}+v_{i,j}^{n}\\frac{u_{i,j}^{n}-u_{i,j-1}^{n}}{\\Delta y}=-\\frac{1}{\\rho}\\frac{p_{i+1,j}^{n}-p_{i-1,j}^{n}}{2\\Delta x}+\\nu\\left(\\frac{u_{i+1,j}^{n}-2u_{i,j}^{n}+u_{i-1,j}^{n}}{\\Delta x^2}+\\frac{u_{i,j+1}^{n}-2u_{i,j}^{n}+u_{i,j-1}^{n}}{\\Delta y^2}\\right)+F_{i,j}$$\n",
      "\n",
      "$$\\frac{v_{i,j}^{n+1}-v_{i,j}^{n}}{\\Delta t}+u_{i,j}^{n}\\frac{v_{i,j}^{n}-v_{i-1,j}^{n}}{\\Delta x}+v_{i,j}^{n}\\frac{v_{i,j}^{n}-v_{i,j-1}^{n}}{\\Delta y}=-\\frac{1}{\\rho}\\frac{p_{i+1,j}^{n}-p_{i-1,j}^{n}}{2\\Delta x}+\\nu\\left(\\frac{v_{i+1,j}^{n}-2v_{i,j}^{n}+v_{i-1,j}^{n}}{\\Delta x^2}+\\frac{v_{i,j+1}^{n}-2v_{i,j}^{n}+v_{i,j-1}^{n}}{\\Delta y^2}\\right)$$"
     ]
    },
    {
     "cell_type": "markdown",
     "metadata": {},
     "source": [
      "Next we need to solve these equations for $u_{i,j}^{n+1}$ & $v_{i,j}^{n+1}$\n",
      "\n",
      "$$u_{i,j}^{n+1} = u_{i,j}^n-\\frac{1}{\\rho}\\frac{\\Delta t}{2\\Delta x}\\left(P_{i+1,j}-P_{i-1,j}\\right) + \\nu\\frac{\\Delta t}{\\Delta x^2}\\left(u_{i+1,j}^n-2u_{i,j}^n+u_{i-1,j}^n\\right) + \\nu\\frac{\\Delta t}{\\Delta y^2}\\left(u_{i,j+1}^n-2u_{i,j}^n+u_{i,j-1}^n\\right) - u_{i,j}^n\\frac{\\Delta t}{\\Delta x}\\left(u_{i,j}^n-u_{i-1,j}^n\\right) - v_{i,j}^n\\frac{\\Delta t}{\\Delta y}\\left(u_{i,j}^n-u_{i,j-1}^n\\right) + \\Delta t F_{i,j}$$\n",
      "\n",
      "$$v_{i,j}^{n+1} = v_{i,j}^n-\\frac{1}{\\rho}\\frac{\\Delta t}{2\\Delta y}\\left(P_{i+1,j}-P_{i-1,j}\\right) + \\nu\\frac{\\Delta t}{\\Delta x^2}\\left(v_{i+1,j}^n-2v_{i,j}^n+v_{i-1,j}^n\\right) + \\nu\\frac{\\Delta t}{\\Delta y^2}\\left(v_{i,j+1}^n-2v_{i,j}^n+v_{i,j-1}^n\\right) - u_{i,j}^n\\frac{\\Delta t}{\\Delta x}\\left(v_{i,j}^n-v_{i-1,j}^n\\right) - v_{i,j}^n\\frac{\\Delta t}{\\Delta y}\\left(v_{i,j}^n-v_{i,j-1}^n\\right)$$\n",
      "\n",
      "This equations can be simplified further if we assume that $\\Delta x$ $=$ $\\Delta y$, but that will not be done to keep the code as general as possible."
     ]
    },
    {
     "cell_type": "heading",
     "level": 4,
     "metadata": {},
     "source": [
      "2D Poisson Equation Derivation & Discretization"
     ]
    },
    {
     "cell_type": "markdown",
     "metadata": {},
     "source": [
      "As you probably noticed in the Burger's Equation above, we have a pressure term but no way to solve it. That's what the Poisson equation is for. Before we get there we need to solve a problem though. For incompressible flow the continutity equation provides no way to combine a pressure term and a velocity term. This is because unlike compressible flow continuity is only a function of velocity. In compressible flow density is able to change which when combined with an equation such as $PV=nRT$.\n",
      "\n",
      "The Laplace equation is defined as:\n",
      "\n",
      "$$\\frac{\\partial^2 P}{\\partial x^2} + \\frac{\\partial^2 P}{\\partial y^2} = 0$$\n",
      "\n",
      "To form the Poisson Equation a source term is added to the equation, thus providing our driving pressure for our pressure driven flow.\n",
      "\n",
      "$$\\frac{\\partial^2 P}{\\partial x^2} + \\frac{\\partial^2 P}{\\partial y^2} = b_{i,j}^n$$\n",
      "\n",
      "$b_{i,j}^n$ is a complicated calculation found by taking the divergence of the momentum equation and rewritten in the form we need. Due to the complexity here we will be using Professor Barba's result from her CFD class.\n",
      "\n",
      "$$b_{i,j}^n = -\\rho \\left(\\frac{\\partial u}{\\partial x}\\frac{\\partial u}{\\partial x} + 2 \\frac{\\partial u}{\\partial y}\\frac{\\partial v}{\\partial x} + \\frac{\\partial v}{\\partial y}\\frac{\\partial v}{\\partial y} \\right)$$\n",
      "\n",
      "Now we need to discritize this equation. First we need to think about the physics of the problem. The pressure field will act by spreading out through the computational domain like a diffusion problem which we talked in Module 2-03. Second we need to use our past experience discretizing with second derivatives. This yields:\n",
      "\n",
      "$$\\frac{P_{i+1,j}^n - 2P_{i,j} + P_{i-1,j}^n}{\\Delta x^2} + \\frac{P_{i,j+1}^n - 2P_{i,j} + P_{i,j-1}^n}{\\Delta y^2} = b_{i,j}^n$$\n",
      "\n",
      "And solving for the pressure at the current location $i,j$:\n",
      "\n",
      "$$P_{i,j}^n = \\frac{\\left(P_{i+1,j}^n + P_{i-1,j}^n\\right)\\Delta y^2 + \\left(P_{i,j+1}^n + P_{i,j-1}^n\\right)\\Delta x^2 - b_{i,j}^n \\Delta x^2 \\Delta y^2}{2\\left(\\Delta x^2 + \\Delta y^2 \\right)}$$\n",
      "\n"
     ]
    },
    {
     "cell_type": "markdown",
     "metadata": {},
     "source": [
      "Now we need to descritze our source term $b_{i,j}^n$, using a central scheme??\n",
      "\n",
      "$$b_{i,j}^n = -\\rho \\left[\\frac{1}{\\Delta t} \\left(\\frac{(u_{i+1,j} - u_{i-1,j}}{2\\Delta x} + \\frac{v_{i,j+1} - v_{i,j-1}}{2\\Delta y}\\right) \\frac{u_{i+1,j}^n + u_{i-1,j}^n}{2\\Delta x} \\frac{u_{i+1,j}^n + u_{i-1,j}^n}{2\\Delta x} + 2 \\frac{u_{i,j+1}^n + u_{i,j-1}^n}{2\\Delta y} \\frac{v_{i+1,j}^n + v_{i-1,j}^n}{2\\Delta x} + \\frac{v_{i,j+1}^n + v_{i,j-1}^n}{2\\Delta y} \\frac{v_{i,j+1}^n + v_{i,j-1}^n}{2\\Delta y}\\right] $$\n",
      "\n",
      "Plugging this expression in for $b_{i,j}^n$ and simplfying yields:\n",
      "\n",
      "$$P_{i,j}^n = \\frac{\\left(P_{i+1,j}^n + P_{i-1,j}^n\\right)\\Delta y^2 + \\left(P_{i,j+1}^n + P_{i,j-1}^n\\right)\\Delta x^2}{2\\left(\\Delta x^2 + \\Delta y^2\\right)} - \\frac{\\rho \\Delta x^2 \\Delta y^2}{2\\left(\\Delta x^2 + \\Delta y^2\\right)}\\left[\\frac{1}{\\Delta t} \\left(\\frac{u_{i+1,j} - u_{i-1,j}}{2\\Delta x} + \\frac{v_{i,j+1} - v_{i,j-1}}{2\\Delta y}\\right) - \\frac{u_{i+1,j}^n + u_{i-1,j}^n}{2\\Delta x} \\frac{u_{i+1,j}^n + u_{i-1,j}^n}{2\\Delta x} - 2 \\frac{u_{i,j+1}^n + u_{i,j-1}^n}{2\\Delta y} \\frac{v_{i+1,j}^n + v_{i-1,j}^n}{2\\Delta x} - \\frac{v_{i,j+1}^n + v_{i,j-1}^n}{2\\Delta y} \\frac{v_{i,j+1}^n + v_{i,j-1}^n}{2\\Delta y}\\right]$$"
     ]
    },
    {
     "cell_type": "heading",
     "level": 3,
     "metadata": {},
     "source": [
      "Boundary & Initial Condition Set-up"
     ]
    },
    {
     "cell_type": "markdown",
     "metadata": {},
     "source": [
      "The domain will stretch from 0 to 4 meters in both the x and y directions with the cavity expanding from 0 to 2 meters in the y direction. This large domain above the cavity is used to capture the acoustic effects we will model later. The flow will be model somewhat similair to a Couette flow with the top of the domain forcing the fluid. Thus we will set are boundary conditions as follows:\n",
      "\n",
      "WRONG!!!!!!!!!!!!!!!!!\n",
      "\n",
      "$u\\left(x,4,t\\right)=1$\n",
      "\n",
      "$u\\left(x,y,t\\right)$ & $v\\left(x,y,t\\right) = 0$ everywhere else\n",
      "\n",
      "$\\frac{\\partial P\\left(x,0,t\\right)}{\\partial y} = 0$\n",
      "\n",
      "$P\\left(x,4,t\\right)=0$\n",
      "\n",
      "$\\frac{\\partial P\\left(0 \\& 4,y,t\\right)}{\\partial x} = 0$\n",
      "\n",
      "Now we are left with the initial conditions which we will set to zero everywhere for $u, v, P$"
     ]
    },
    {
     "cell_type": "heading",
     "level": 4,
     "metadata": {},
     "source": [
      "CFL Conditions"
     ]
    },
    {
     "cell_type": "markdown",
     "metadata": {},
     "source": [
      "All of the equations in this notebook are nonlinear PDE's which means we can't use Von Neumann Stability Analysis. So how do we tell if the system is stable? The are some advanced was to look at stability of nonlinear PDE's involving the eigenvalues of the jacobian, but for simplicity we will just assume that the CFL number is 1.\n",
      "\n"
     ]
    },
    {
     "cell_type": "heading",
     "level": 2,
     "metadata": {},
     "source": [
      "Code"
     ]
    },
    {
     "cell_type": "markdown",
     "metadata": {},
     "source": [
      "First, we need to import our libraries and we will be using a few new ones for this notebook. These new libraries allow use access to more advanced plotting tools. Feel free to read their documentation online."
     ]
    },
    {
     "cell_type": "code",
     "collapsed": false,
     "input": [
      "import numpy as np\n",
      "from mpl_toolkits.mplot3d import Axes3D\n",
      "from matplotlib import cm\n",
      "import matplotlib.pyplot as plt\n",
      "%matplotlib inline\n",
      "from matplotlib import animation"
     ],
     "language": "python",
     "metadata": {},
     "outputs": [],
     "prompt_number": 2
    },
    {
     "cell_type": "heading",
     "level": 5,
     "metadata": {},
     "source": [
      "Boundary Conditions, Initial conditions, Grid Creation, and Problem Set-up"
     ]
    },
    {
     "cell_type": "code",
     "collapsed": false,
     "input": [
      "nx = 41 #number of x grid points\n",
      "ny = 41 #number of y grid points\n",
      "nt = 500 #number of time steps\n",
      "dt = .001 #size of time steps\n",
      "dx = 4.0/(nx-1) #size of x steps\n",
      "dy = 4.0/(ny-1) #size of y steps\n",
      "sigma = 1 #CFL\n",
      "rho = 1 #kg/m^3\n",
      "nu = 1.846*10.0**-5.0 #kg/m s\n",
      "c = 340.29 #m/s\n",
      "\n",
      "x = linspace(0.0,4.0,nx)\n",
      "y = linspace(0.0,4.0,ny)\n",
      "Y,X = np.meshgrid(y,x)\n",
      "\n",
      "u = np.zeros((ny,nx))\n",
      "v = np.zeros((ny,nx))\n",
      "P = np.zeros((ny,nx))\n",
      "b = np.zeros((ny,nx))"
     ],
     "language": "python",
     "metadata": {},
     "outputs": [],
     "prompt_number": 21
    },
    {
     "cell_type": "markdown",
     "metadata": {},
     "source": [
      "We used a new function meshgrid in the last cell you should look it up http://docs.scipy.org/doc/numpy/reference/generated/numpy.meshgrid.html\n",
      "\n",
      "We also did one other new thing did you notice it? We made 2D variables for $u$, $v$, $P$, and $b$. We need to remember what learned in module 4 for 2D arrays. Mainly, that python defines by the y variable first unlike our intuition.\n",
      "\n",
      "You may be wondering why we created an additional $b$ variable. This is to make our lives easier as demonstrate by Professor Barba in her CFDPython class. The Poisson equation is quite long and difficult to code without a typo, so we split it up into two variables. The question is how to split it up? Why not use $b_{i,j}^n$ from the derivation of the equation."
     ]
    },
    {
     "cell_type": "code",
     "collapsed": false,
     "input": [
      "def b_ij(u, v, dx, dy, rho, b):\n",
      "    \"\"\"Computes the b_ij term in the Poisson equation\n",
      "    \n",
      "    Parameters:\n",
      "    ------\n",
      "    u:    array of float\n",
      "          velocity in the x direction\n",
      "    \n",
      "    v:    array of float\n",
      "          velocity in the y direction\n",
      "    \n",
      "    dx:   float\n",
      "          grid step size\n",
      "    \n",
      "    dy:   float\n",
      "          grid step size\n",
      "          \n",
      "    rho:  float\n",
      "          density of air\n",
      "        \n",
      "    b:    array of float\n",
      "          empty array for function\n",
      "          \n",
      "    Returns:\n",
      "    -------\n",
      "    b:    array of float\n",
      "          b term of Poisson equation\n",
      "    \"\"\"\n",
      "    \n",
      "    return b"
     ],
     "language": "python",
     "metadata": {},
     "outputs": [],
     "prompt_number": 12
    },
    {
     "cell_type": "code",
     "collapsed": false,
     "input": [
      "def Poisson2D(P, dx, dy, b):\n",
      "    \"\"\"Computes the Poisson equation\n",
      "    \n",
      "    Parameters:\n",
      "    ------\n",
      "    P:    array of float\n",
      "          empty array for function\n",
      "    \n",
      "    dx:   float\n",
      "          grid step size\n",
      "    \n",
      "    dy:   float\n",
      "          grid step size\n",
      "        \n",
      "    b:    array of float\n",
      "          b term of Poisson equation\n",
      "          \n",
      "    Returns:\n",
      "    -------\n",
      "    P:    array of float\n",
      "          Results of Poisson equation\n",
      "    \"\"\"\n",
      "    \n",
      "    return P"
     ],
     "language": "python",
     "metadata": {},
     "outputs": [],
     "prompt_number": 13
    },
    {
     "cell_type": "code",
     "collapsed": false,
     "input": [
      "def Burger2D(u, v, P, dt, dx, dy, rho, nu):\n",
      "    \"\"\"Computes the velocities of the flow\n",
      "    \n",
      "    Parameters:\n",
      "    ------\n",
      "    u:    array of float\n",
      "          velocity in the x direction\n",
      "    \n",
      "    v:    array of float\n",
      "          velocity in the y direction\n",
      "          \n",
      "    P:    array of float\n",
      "          Results of Poisson equation\n",
      "          \n",
      "    dt:   float\n",
      "          time step size\n",
      "    \n",
      "    dx:   float\n",
      "          grid step size\n",
      "    \n",
      "    dy:   float\n",
      "          grid step size\n",
      "          \n",
      "    rho:  float\n",
      "          density of air\n",
      "        \n",
      "    nu:   float\n",
      "          Dynamic viscosity of air\n",
      "          \n",
      "    Returns:\n",
      "    -------\n",
      "    u:    array of float\n",
      "          x direction velocities\n",
      "          \n",
      "    v:    array of float\n",
      "          y direction velocities\n",
      "    \"\"\"\n",
      "    \n",
      "    return u, v"
     ],
     "language": "python",
     "metadata": {},
     "outputs": [],
     "prompt_number": 14
    },
    {
     "cell_type": "code",
     "collapsed": false,
     "input": [
      "def CavityFlow(u, v, P, dt, dx, dy, rho, nu, nt, nx, ny):\n",
      "    \"\"\"Computes the fluid flow over a cavity\n",
      "    \n",
      "    Parameters:\n",
      "    ------\n",
      "    u:    array of float\n",
      "          velocity in the x direction\n",
      "    \n",
      "    v:    array of float\n",
      "          velocity in the y direction\n",
      "          \n",
      "    P:    array of float\n",
      "          Results of Poisson equation   \n",
      "          \n",
      "    dt:   float\n",
      "          time step size\n",
      "    \n",
      "    dx:   float\n",
      "          grid step size\n",
      "    \n",
      "    dy:   float\n",
      "          grid step size\n",
      "          \n",
      "    rho:  float\n",
      "          density of air        \n",
      "          \n",
      "    nu:   float\n",
      "          Dynamic viscosity of air\n",
      "          \n",
      "    nt:   float\n",
      "          Number of time steps\n",
      "          \n",
      "    nx:   float\n",
      "          Number of x direction steps\n",
      "          \n",
      "    ny:   float\n",
      "          Number of y direction steps\n",
      "\n",
      "          \n",
      "    Returns:\n",
      "    -------\n",
      "    u:    array of float\n",
      "          u velocity for cavity flow\n",
      "          \n",
      "    v:    array of float\n",
      "          v velocity for cavity flow\n",
      "          \n",
      "    P:    array of float\n",
      "          Pressure distribution for cavity flow\n",
      "    \"\"\"\n",
      "    \n",
      "    return u, v, P"
     ],
     "language": "python",
     "metadata": {},
     "outputs": [],
     "prompt_number": 17
    },
    {
     "cell_type": "markdown",
     "metadata": {},
     "source": [
      "Next we are going to use Matplotlib's contour plotting ability. Read more about it here\n",
      "http://matplotlib.org/examples/pylab_examples/contour_demo.html."
     ]
    },
    {
     "cell_type": "code",
     "collapsed": false,
     "input": [
      "u, v, P = CavityFlow(u, v, P, dt, dx, dy, rho, nu, nt, nx, ny)\n",
      "fig = plt.figure(figsize=(11,7), dpi=100)\n",
      "plt.contourf(X,Y,P,alpha=0.5)    ###plottong the pressure field as a contour\n",
      "plt.colorbar()\n",
      "plt.contour(X,Y,P)               ###plotting the pressure field outlines\n",
      "plt.quiver(X[::2,::2],Y[::2,::2],u[::2,::2],v[::2,::2]) ##plotting velocity\n",
      "plt.xlabel('X')\n",
      "plt.ylabel('Y')"
     ],
     "language": "python",
     "metadata": {},
     "outputs": [
      {
       "ename": "ValueError",
       "evalue": "zero-size array to reduction operation minimum which has no identity",
       "output_type": "pyerr",
       "traceback": [
        "\u001b[1;31m---------------------------------------------------------------------------\u001b[0m\n\u001b[1;31mValueError\u001b[0m                                Traceback (most recent call last)",
        "\u001b[1;32m<ipython-input-20-cd403edf4711>\u001b[0m in \u001b[0;36m<module>\u001b[1;34m()\u001b[0m\n\u001b[0;32m      3\u001b[0m \u001b[0mplt\u001b[0m\u001b[1;33m.\u001b[0m\u001b[0mcontourf\u001b[0m\u001b[1;33m(\u001b[0m\u001b[0mX\u001b[0m\u001b[1;33m,\u001b[0m\u001b[0mY\u001b[0m\u001b[1;33m,\u001b[0m\u001b[0mP\u001b[0m\u001b[1;33m,\u001b[0m\u001b[0malpha\u001b[0m\u001b[1;33m=\u001b[0m\u001b[1;36m0.5\u001b[0m\u001b[1;33m)\u001b[0m    \u001b[1;31m###plottong the pressure field as a contour\u001b[0m\u001b[1;33m\u001b[0m\u001b[0m\n\u001b[0;32m      4\u001b[0m \u001b[0mplt\u001b[0m\u001b[1;33m.\u001b[0m\u001b[0mcolorbar\u001b[0m\u001b[1;33m(\u001b[0m\u001b[1;33m)\u001b[0m\u001b[1;33m\u001b[0m\u001b[0m\n\u001b[1;32m----> 5\u001b[1;33m \u001b[0mplt\u001b[0m\u001b[1;33m.\u001b[0m\u001b[0mcontour\u001b[0m\u001b[1;33m(\u001b[0m\u001b[0mX\u001b[0m\u001b[1;33m,\u001b[0m\u001b[0mY\u001b[0m\u001b[1;33m,\u001b[0m\u001b[0mP\u001b[0m\u001b[1;33m)\u001b[0m               \u001b[1;31m###plotting the pressure field outlines\u001b[0m\u001b[1;33m\u001b[0m\u001b[0m\n\u001b[0m\u001b[0;32m      6\u001b[0m \u001b[0mplt\u001b[0m\u001b[1;33m.\u001b[0m\u001b[0mquiver\u001b[0m\u001b[1;33m(\u001b[0m\u001b[0mX\u001b[0m\u001b[1;33m[\u001b[0m\u001b[1;33m:\u001b[0m\u001b[1;33m:\u001b[0m\u001b[1;36m2\u001b[0m\u001b[1;33m,\u001b[0m\u001b[1;33m:\u001b[0m\u001b[1;33m:\u001b[0m\u001b[1;36m2\u001b[0m\u001b[1;33m]\u001b[0m\u001b[1;33m,\u001b[0m\u001b[0mY\u001b[0m\u001b[1;33m[\u001b[0m\u001b[1;33m:\u001b[0m\u001b[1;33m:\u001b[0m\u001b[1;36m2\u001b[0m\u001b[1;33m,\u001b[0m\u001b[1;33m:\u001b[0m\u001b[1;33m:\u001b[0m\u001b[1;36m2\u001b[0m\u001b[1;33m]\u001b[0m\u001b[1;33m,\u001b[0m\u001b[0mu\u001b[0m\u001b[1;33m[\u001b[0m\u001b[1;33m:\u001b[0m\u001b[1;33m:\u001b[0m\u001b[1;36m2\u001b[0m\u001b[1;33m,\u001b[0m\u001b[1;33m:\u001b[0m\u001b[1;33m:\u001b[0m\u001b[1;36m2\u001b[0m\u001b[1;33m]\u001b[0m\u001b[1;33m,\u001b[0m\u001b[0mv\u001b[0m\u001b[1;33m[\u001b[0m\u001b[1;33m:\u001b[0m\u001b[1;33m:\u001b[0m\u001b[1;36m2\u001b[0m\u001b[1;33m,\u001b[0m\u001b[1;33m:\u001b[0m\u001b[1;33m:\u001b[0m\u001b[1;36m2\u001b[0m\u001b[1;33m]\u001b[0m\u001b[1;33m)\u001b[0m \u001b[1;31m##plotting velocity\u001b[0m\u001b[1;33m\u001b[0m\u001b[0m\n\u001b[0;32m      7\u001b[0m \u001b[0mplt\u001b[0m\u001b[1;33m.\u001b[0m\u001b[0mxlabel\u001b[0m\u001b[1;33m(\u001b[0m\u001b[1;34m'X'\u001b[0m\u001b[1;33m)\u001b[0m\u001b[1;33m\u001b[0m\u001b[0m\n",
        "\u001b[1;32m/home/cj/Enthought/Canopy_64bit/User/lib/python2.7/site-packages/matplotlib/pyplot.pyc\u001b[0m in \u001b[0;36mcontour\u001b[1;34m(*args, **kwargs)\u001b[0m\n\u001b[0;32m   2698\u001b[0m         \u001b[0max\u001b[0m\u001b[1;33m.\u001b[0m\u001b[0mhold\u001b[0m\u001b[1;33m(\u001b[0m\u001b[0mhold\u001b[0m\u001b[1;33m)\u001b[0m\u001b[1;33m\u001b[0m\u001b[0m\n\u001b[0;32m   2699\u001b[0m     \u001b[1;32mtry\u001b[0m\u001b[1;33m:\u001b[0m\u001b[1;33m\u001b[0m\u001b[0m\n\u001b[1;32m-> 2700\u001b[1;33m         \u001b[0mret\u001b[0m \u001b[1;33m=\u001b[0m \u001b[0max\u001b[0m\u001b[1;33m.\u001b[0m\u001b[0mcontour\u001b[0m\u001b[1;33m(\u001b[0m\u001b[1;33m*\u001b[0m\u001b[0margs\u001b[0m\u001b[1;33m,\u001b[0m \u001b[1;33m**\u001b[0m\u001b[0mkwargs\u001b[0m\u001b[1;33m)\u001b[0m\u001b[1;33m\u001b[0m\u001b[0m\n\u001b[0m\u001b[0;32m   2701\u001b[0m         \u001b[0mdraw_if_interactive\u001b[0m\u001b[1;33m(\u001b[0m\u001b[1;33m)\u001b[0m\u001b[1;33m\u001b[0m\u001b[0m\n\u001b[0;32m   2702\u001b[0m     \u001b[1;32mfinally\u001b[0m\u001b[1;33m:\u001b[0m\u001b[1;33m\u001b[0m\u001b[0m\n",
        "\u001b[1;32m/home/cj/Enthought/Canopy_64bit/User/lib/python2.7/site-packages/matplotlib/axes/_axes.pyc\u001b[0m in \u001b[0;36mcontour\u001b[1;34m(self, *args, **kwargs)\u001b[0m\n\u001b[0;32m   5332\u001b[0m             \u001b[0mself\u001b[0m\u001b[1;33m.\u001b[0m\u001b[0mcla\u001b[0m\u001b[1;33m(\u001b[0m\u001b[1;33m)\u001b[0m\u001b[1;33m\u001b[0m\u001b[0m\n\u001b[0;32m   5333\u001b[0m         \u001b[0mkwargs\u001b[0m\u001b[1;33m[\u001b[0m\u001b[1;34m'filled'\u001b[0m\u001b[1;33m]\u001b[0m \u001b[1;33m=\u001b[0m \u001b[0mFalse\u001b[0m\u001b[1;33m\u001b[0m\u001b[0m\n\u001b[1;32m-> 5334\u001b[1;33m         \u001b[1;32mreturn\u001b[0m \u001b[0mmcontour\u001b[0m\u001b[1;33m.\u001b[0m\u001b[0mQuadContourSet\u001b[0m\u001b[1;33m(\u001b[0m\u001b[0mself\u001b[0m\u001b[1;33m,\u001b[0m \u001b[1;33m*\u001b[0m\u001b[0margs\u001b[0m\u001b[1;33m,\u001b[0m \u001b[1;33m**\u001b[0m\u001b[0mkwargs\u001b[0m\u001b[1;33m)\u001b[0m\u001b[1;33m\u001b[0m\u001b[0m\n\u001b[0m\u001b[0;32m   5335\u001b[0m     \u001b[0mcontour\u001b[0m\u001b[1;33m.\u001b[0m\u001b[0m__doc__\u001b[0m \u001b[1;33m=\u001b[0m \u001b[0mmcontour\u001b[0m\u001b[1;33m.\u001b[0m\u001b[0mQuadContourSet\u001b[0m\u001b[1;33m.\u001b[0m\u001b[0mcontour_doc\u001b[0m\u001b[1;33m\u001b[0m\u001b[0m\n\u001b[0;32m   5336\u001b[0m \u001b[1;33m\u001b[0m\u001b[0m\n",
        "\u001b[1;32m/home/cj/Enthought/Canopy_64bit/User/lib/python2.7/site-packages/matplotlib/contour.pyc\u001b[0m in \u001b[0;36m__init__\u001b[1;34m(self, ax, *args, **kwargs)\u001b[0m\n\u001b[0;32m   1427\u001b[0m         \u001b[0mare\u001b[0m \u001b[0mdescribed\u001b[0m \u001b[1;32min\u001b[0m \u001b[0mQuadContourSet\u001b[0m\u001b[1;33m.\u001b[0m\u001b[0mcontour_doc\u001b[0m\u001b[1;33m.\u001b[0m\u001b[1;33m\u001b[0m\u001b[0m\n\u001b[0;32m   1428\u001b[0m         \"\"\"\n\u001b[1;32m-> 1429\u001b[1;33m         \u001b[0mContourSet\u001b[0m\u001b[1;33m.\u001b[0m\u001b[0m__init__\u001b[0m\u001b[1;33m(\u001b[0m\u001b[0mself\u001b[0m\u001b[1;33m,\u001b[0m \u001b[0max\u001b[0m\u001b[1;33m,\u001b[0m \u001b[1;33m*\u001b[0m\u001b[0margs\u001b[0m\u001b[1;33m,\u001b[0m \u001b[1;33m**\u001b[0m\u001b[0mkwargs\u001b[0m\u001b[1;33m)\u001b[0m\u001b[1;33m\u001b[0m\u001b[0m\n\u001b[0m\u001b[0;32m   1430\u001b[0m \u001b[1;33m\u001b[0m\u001b[0m\n\u001b[0;32m   1431\u001b[0m     \u001b[1;32mdef\u001b[0m \u001b[0m_process_args\u001b[0m\u001b[1;33m(\u001b[0m\u001b[0mself\u001b[0m\u001b[1;33m,\u001b[0m \u001b[1;33m*\u001b[0m\u001b[0margs\u001b[0m\u001b[1;33m,\u001b[0m \u001b[1;33m**\u001b[0m\u001b[0mkwargs\u001b[0m\u001b[1;33m)\u001b[0m\u001b[1;33m:\u001b[0m\u001b[1;33m\u001b[0m\u001b[0m\n",
        "\u001b[1;32m/home/cj/Enthought/Canopy_64bit/User/lib/python2.7/site-packages/matplotlib/contour.pyc\u001b[0m in \u001b[0;36m__init__\u001b[1;34m(self, ax, *args, **kwargs)\u001b[0m\n\u001b[0;32m    874\u001b[0m \u001b[1;33m\u001b[0m\u001b[0m\n\u001b[0;32m    875\u001b[0m         \u001b[0mself\u001b[0m\u001b[1;33m.\u001b[0m\u001b[0m_process_args\u001b[0m\u001b[1;33m(\u001b[0m\u001b[1;33m*\u001b[0m\u001b[0margs\u001b[0m\u001b[1;33m,\u001b[0m \u001b[1;33m**\u001b[0m\u001b[0mkwargs\u001b[0m\u001b[1;33m)\u001b[0m\u001b[1;33m\u001b[0m\u001b[0m\n\u001b[1;32m--> 876\u001b[1;33m         \u001b[0mself\u001b[0m\u001b[1;33m.\u001b[0m\u001b[0m_process_levels\u001b[0m\u001b[1;33m(\u001b[0m\u001b[1;33m)\u001b[0m\u001b[1;33m\u001b[0m\u001b[0m\n\u001b[0m\u001b[0;32m    877\u001b[0m \u001b[1;33m\u001b[0m\u001b[0m\n\u001b[0;32m    878\u001b[0m         \u001b[1;32mif\u001b[0m \u001b[0mself\u001b[0m\u001b[1;33m.\u001b[0m\u001b[0mcolors\u001b[0m \u001b[1;32mis\u001b[0m \u001b[1;32mnot\u001b[0m \u001b[0mNone\u001b[0m\u001b[1;33m:\u001b[0m\u001b[1;33m\u001b[0m\u001b[0m\n",
        "\u001b[1;32m/home/cj/Enthought/Canopy_64bit/User/lib/python2.7/site-packages/matplotlib/contour.pyc\u001b[0m in \u001b[0;36m_process_levels\u001b[1;34m(self)\u001b[0m\n\u001b[0;32m   1205\u001b[0m         \u001b[1;31m# The following attributes are no longer needed, and\u001b[0m\u001b[1;33m\u001b[0m\u001b[1;33m\u001b[0m\u001b[0m\n\u001b[0;32m   1206\u001b[0m         \u001b[1;31m# should be deprecated and removed to reduce confusion.\u001b[0m\u001b[1;33m\u001b[0m\u001b[1;33m\u001b[0m\u001b[0m\n\u001b[1;32m-> 1207\u001b[1;33m         \u001b[0mself\u001b[0m\u001b[1;33m.\u001b[0m\u001b[0mvmin\u001b[0m \u001b[1;33m=\u001b[0m \u001b[0mnp\u001b[0m\u001b[1;33m.\u001b[0m\u001b[0mamin\u001b[0m\u001b[1;33m(\u001b[0m\u001b[0mself\u001b[0m\u001b[1;33m.\u001b[0m\u001b[0mlevels\u001b[0m\u001b[1;33m)\u001b[0m\u001b[1;33m\u001b[0m\u001b[0m\n\u001b[0m\u001b[0;32m   1208\u001b[0m         \u001b[0mself\u001b[0m\u001b[1;33m.\u001b[0m\u001b[0mvmax\u001b[0m \u001b[1;33m=\u001b[0m \u001b[0mnp\u001b[0m\u001b[1;33m.\u001b[0m\u001b[0mamax\u001b[0m\u001b[1;33m(\u001b[0m\u001b[0mself\u001b[0m\u001b[1;33m.\u001b[0m\u001b[0mlevels\u001b[0m\u001b[1;33m)\u001b[0m\u001b[1;33m\u001b[0m\u001b[0m\n\u001b[0;32m   1209\u001b[0m \u001b[1;33m\u001b[0m\u001b[0m\n",
        "\u001b[1;32m/home/cj/Enthought/Canopy_64bit/User/lib/python2.7/site-packages/numpy/core/fromnumeric.pyc\u001b[0m in \u001b[0;36mamin\u001b[1;34m(a, axis, out, keepdims)\u001b[0m\n\u001b[0;32m   2212\u001b[0m     \u001b[1;32melse\u001b[0m\u001b[1;33m:\u001b[0m\u001b[1;33m\u001b[0m\u001b[0m\n\u001b[0;32m   2213\u001b[0m         return _methods._amin(a, axis=axis,\n\u001b[1;32m-> 2214\u001b[1;33m                             out=out, keepdims=keepdims)\n\u001b[0m\u001b[0;32m   2215\u001b[0m \u001b[1;33m\u001b[0m\u001b[0m\n\u001b[0;32m   2216\u001b[0m \u001b[1;32mdef\u001b[0m \u001b[0malen\u001b[0m\u001b[1;33m(\u001b[0m\u001b[0ma\u001b[0m\u001b[1;33m)\u001b[0m\u001b[1;33m:\u001b[0m\u001b[1;33m\u001b[0m\u001b[0m\n",
        "\u001b[1;32m/home/cj/Enthought/Canopy_64bit/User/lib/python2.7/site-packages/numpy/core/_methods.pyc\u001b[0m in \u001b[0;36m_amin\u001b[1;34m(a, axis, out, keepdims)\u001b[0m\n\u001b[0;32m     19\u001b[0m \u001b[1;32mdef\u001b[0m \u001b[0m_amin\u001b[0m\u001b[1;33m(\u001b[0m\u001b[0ma\u001b[0m\u001b[1;33m,\u001b[0m \u001b[0maxis\u001b[0m\u001b[1;33m=\u001b[0m\u001b[0mNone\u001b[0m\u001b[1;33m,\u001b[0m \u001b[0mout\u001b[0m\u001b[1;33m=\u001b[0m\u001b[0mNone\u001b[0m\u001b[1;33m,\u001b[0m \u001b[0mkeepdims\u001b[0m\u001b[1;33m=\u001b[0m\u001b[0mFalse\u001b[0m\u001b[1;33m)\u001b[0m\u001b[1;33m:\u001b[0m\u001b[1;33m\u001b[0m\u001b[0m\n\u001b[0;32m     20\u001b[0m     return um.minimum.reduce(a, axis=axis,\n\u001b[1;32m---> 21\u001b[1;33m                             out=out, keepdims=keepdims)\n\u001b[0m\u001b[0;32m     22\u001b[0m \u001b[1;33m\u001b[0m\u001b[0m\n\u001b[0;32m     23\u001b[0m \u001b[1;32mdef\u001b[0m \u001b[0m_sum\u001b[0m\u001b[1;33m(\u001b[0m\u001b[0ma\u001b[0m\u001b[1;33m,\u001b[0m \u001b[0maxis\u001b[0m\u001b[1;33m=\u001b[0m\u001b[0mNone\u001b[0m\u001b[1;33m,\u001b[0m \u001b[0mdtype\u001b[0m\u001b[1;33m=\u001b[0m\u001b[0mNone\u001b[0m\u001b[1;33m,\u001b[0m \u001b[0mout\u001b[0m\u001b[1;33m=\u001b[0m\u001b[0mNone\u001b[0m\u001b[1;33m,\u001b[0m \u001b[0mkeepdims\u001b[0m\u001b[1;33m=\u001b[0m\u001b[0mFalse\u001b[0m\u001b[1;33m)\u001b[0m\u001b[1;33m:\u001b[0m\u001b[1;33m\u001b[0m\u001b[0m\n",
        "\u001b[1;31mValueError\u001b[0m: zero-size array to reduction operation minimum which has no identity"
       ]
      },
      {
       "metadata": {},
       "output_type": "display_data",
       "png": "[encoded data removed]",
       "text": [
        "<matplotlib.figure.Figure at 0x356b6d0>"
       ]
      }
     ],
     "prompt_number": 20
    },
    {
     "cell_type": "heading",
     "level": 2,
     "metadata": {},
     "source": [
      "Result Confirmation:"
     ]
    },
    {
     "cell_type": "heading",
     "level": 2,
     "metadata": {},
     "source": [
      "2D Acoustic Equation Derivation & Discritization"
     ]
    },
    {
     "cell_type": "markdown",
     "metadata": {},
     "source": [
      "The 2D Acoustic Wave Equation is defined as:\n",
      "\n",
      "$$\\frac{\\partial^2 P}{\\partial x^2} + \\frac{\\partial^2 P}{\\partial y^2} - \\frac{1}{c^2}\\frac{\\partial^2 P}{\\partial t^2} = 0$$\n",
      "\n",
      "With $c$ being the speed of sound. First we should determine what type of error the scheme we will be using will have because we have a term we have not dealt with before-an equation sensitive to the second derivative of time."
     ]
    },
    {
     "cell_type": "markdown",
     "metadata": {},
     "source": [
      "$$\\frac{P_{i+1,j}^n - 2P_{i,j} + P_{i-1,j}^n}{\\Delta x^2} + \\frac{P_{i,j+1}^n - 2P_{i,j} + P_{i,j-1}^n}{\\Delta y^2} - \\frac{1}{c^2}\\frac{P_{i,j}^{n+1} - 2P_{i,j}^n + P_{i,j}^{n-1}}{\\Delta t^2} = 0$$\n",
      "\n",
      "$$P_{i,j}^{n+1} = \\frac{c^2\\Delta t^2}{\\Delta x^2}\\left(P_{i+1,j}^n - 2P_{i,j}^n + P_{i-1,j}^n\\right) + \\frac{c^2\\Delta t^2}{\\Delta y^2}\\left(P_{i,j+1}^n - 2P_{i,j}^n + P_{i,j-1}^n\\right) + 2P_{i,j}^n - P_{i,j}^{n-1}$$\n",
      "\n",
      "Now we have a new problem, we have a $n-1$ time step that means we need a special way to start off the solution."
     ]
    },
    {
     "cell_type": "markdown",
     "metadata": {},
     "source": [
      "$P_{i,j}^{n+1}$ can be found by performing a 3 term taylor series expansion as demonstrated by classmate Matt Bornemeier in his final project using the work of John Strikwerda.\n",
      "\n",
      "$$P_{i,j}^n = P_{i,j} + \\Delta t \\frac{\\partial P}{\\partial t} + \\frac{1}{2}\\Delta t^2 \\frac{\\partial^2 P}{\\partial t^2} + O\\left(\\Delta t^3 \\right)$$\n",
      "\n",
      "We can rearrange our 2D acoustic equation to yield:\n",
      "\n",
      "$$\\frac{\\partial^2 P}{\\partial t^2} = c^2 \\frac{\\partial^2 P}{\\partial x} + c^2 \\frac{\\partial^2 P}{\\partial y}$$\n",
      "\n",
      "Now we can use this relation to start off the solution at the first time step."
     ]
    },
    {
     "cell_type": "code",
     "collapsed": false,
     "input": [
      "P_a = np.zeros((ny,nx)) #initiate 2D array for acoustics"
     ],
     "language": "python",
     "metadata": {},
     "outputs": [],
     "prompt_number": 16
    },
    {
     "cell_type": "code",
     "collapsed": false,
     "input": [
      "def Acoustics2D(P_a, c, dt, dx, dy, P):\n",
      "    \"\"\"Computes the fluid flow over a cavity\n",
      "    \n",
      "    Parameters:\n",
      "    ------          \n",
      "    P_a:  array of float\n",
      "          empty array for acoustic pressure waves\n",
      "          \n",
      "          \n",
      "    c:    float\n",
      "          speed of sound\n",
      "          \n",
      "    dt:   float\n",
      "          time step size\n",
      "    \n",
      "    dx:   float\n",
      "          grid step size\n",
      "    \n",
      "    dy:   float\n",
      "          grid step size\n",
      "          \n",
      "    P:    array of float\n",
      "          Results of Poisson equation \n",
      "\n",
      "          \n",
      "    Returns:\n",
      "    -------          \n",
      "    P_a:  array of float\n",
      "          Acoustic distribution for cavity flow\n",
      "    \"\"\"\n",
      "    \n",
      "    return P_a"
     ],
     "language": "python",
     "metadata": {},
     "outputs": []
    },
    {
     "cell_type": "code",
     "collapsed": false,
     "input": [
      "def CavityFlowAcoustics(u, v, P, dt, dx, dy, rho, nu, nt, nx, ny, c):\n",
      "    \"\"\"Computes the fluid flow over a cavity\n",
      "    \n",
      "    Parameters:\n",
      "    ------\n",
      "    u:    array of float\n",
      "          velocity in the x direction\n",
      "    \n",
      "    v:    array of float\n",
      "          velocity in the y direction\n",
      "          \n",
      "    P:    array of float\n",
      "          Results of Poisson equation   \n",
      "          \n",
      "    dt:   float\n",
      "          time step size\n",
      "    \n",
      "    dx:   float\n",
      "          grid step size\n",
      "    \n",
      "    dy:   float\n",
      "          grid step size\n",
      "          \n",
      "    rho:  float\n",
      "          density of air        \n",
      "          \n",
      "    nu:   float\n",
      "          Dynamic viscosity of air\n",
      "          \n",
      "    nt:   float\n",
      "          Number of time steps\n",
      "          \n",
      "    nx:   float\n",
      "          Number of x direction steps\n",
      "          \n",
      "    ny:   float\n",
      "          Number of y direction steps\n",
      "          \n",
      "    c:    float\n",
      "          speed of sound\n",
      "\n",
      "          \n",
      "    Returns:\n",
      "    -------\n",
      "    u:    array of float\n",
      "          u velocity for cavity flow\n",
      "          \n",
      "    v:    array of float\n",
      "          v velocity for cavity flow\n",
      "          \n",
      "    P:    array of float\n",
      "          Pressure distribution for cavity flow\n",
      "          \n",
      "    P_a:  array of float\n",
      "          Acoustic distribution for cavity flow\n",
      "    \"\"\"\n",
      "    \n",
      "    return u, v, P, P_a"
     ],
     "language": "python",
     "metadata": {},
     "outputs": [],
     "prompt_number": 23
    },
    {
     "cell_type": "code",
     "collapsed": false,
     "input": [
      "u, v, P, P_a = CavityFlowAcoustics(u, v, P, dt, dx, dy, rho, nu, nt, nx, ny, c)\n",
      "fig = plt.figure(figsize=(11,7), dpi=100)\n",
      "plt.contourf(X,Y,P,alpha=0.5)    ###plottong the pressure field as a contour\n",
      "plt.colorbar()\n",
      "plt.contour(X,Y,P)               ###plotting the pressure field outlines\n",
      "plt.quiver(X[::2,::2],Y[::2,::2],u[::2,::2],v[::2,::2]) ##plotting velocity\n",
      "plt.xlabel('X')\n",
      "plt.ylabel('Y')"
     ],
     "language": "python",
     "metadata": {},
     "outputs": [
      {
       "ename": "ValueError",
       "evalue": "zero-size array to reduction operation minimum which has no identity",
       "output_type": "pyerr",
       "traceback": [
        "\u001b[1;31m---------------------------------------------------------------------------\u001b[0m\n\u001b[1;31mValueError\u001b[0m                                Traceback (most recent call last)",
        "\u001b[1;32m<ipython-input-24-4a002baaf91d>\u001b[0m in \u001b[0;36m<module>\u001b[1;34m()\u001b[0m\n\u001b[0;32m      3\u001b[0m \u001b[0mplt\u001b[0m\u001b[1;33m.\u001b[0m\u001b[0mcontourf\u001b[0m\u001b[1;33m(\u001b[0m\u001b[0mX\u001b[0m\u001b[1;33m,\u001b[0m\u001b[0mY\u001b[0m\u001b[1;33m,\u001b[0m\u001b[0mP\u001b[0m\u001b[1;33m,\u001b[0m\u001b[0malpha\u001b[0m\u001b[1;33m=\u001b[0m\u001b[1;36m0.5\u001b[0m\u001b[1;33m)\u001b[0m    \u001b[1;31m###plottong the pressure field as a contour\u001b[0m\u001b[1;33m\u001b[0m\u001b[0m\n\u001b[0;32m      4\u001b[0m \u001b[0mplt\u001b[0m\u001b[1;33m.\u001b[0m\u001b[0mcolorbar\u001b[0m\u001b[1;33m(\u001b[0m\u001b[1;33m)\u001b[0m\u001b[1;33m\u001b[0m\u001b[0m\n\u001b[1;32m----> 5\u001b[1;33m \u001b[0mplt\u001b[0m\u001b[1;33m.\u001b[0m\u001b[0mcontour\u001b[0m\u001b[1;33m(\u001b[0m\u001b[0mX\u001b[0m\u001b[1;33m,\u001b[0m\u001b[0mY\u001b[0m\u001b[1;33m,\u001b[0m\u001b[0mP\u001b[0m\u001b[1;33m)\u001b[0m               \u001b[1;31m###plotting the pressure field outlines\u001b[0m\u001b[1;33m\u001b[0m\u001b[0m\n\u001b[0m\u001b[0;32m      6\u001b[0m \u001b[0mplt\u001b[0m\u001b[1;33m.\u001b[0m\u001b[0mquiver\u001b[0m\u001b[1;33m(\u001b[0m\u001b[0mX\u001b[0m\u001b[1;33m[\u001b[0m\u001b[1;33m:\u001b[0m\u001b[1;33m:\u001b[0m\u001b[1;36m2\u001b[0m\u001b[1;33m,\u001b[0m\u001b[1;33m:\u001b[0m\u001b[1;33m:\u001b[0m\u001b[1;36m2\u001b[0m\u001b[1;33m]\u001b[0m\u001b[1;33m,\u001b[0m\u001b[0mY\u001b[0m\u001b[1;33m[\u001b[0m\u001b[1;33m:\u001b[0m\u001b[1;33m:\u001b[0m\u001b[1;36m2\u001b[0m\u001b[1;33m,\u001b[0m\u001b[1;33m:\u001b[0m\u001b[1;33m:\u001b[0m\u001b[1;36m2\u001b[0m\u001b[1;33m]\u001b[0m\u001b[1;33m,\u001b[0m\u001b[0mu\u001b[0m\u001b[1;33m[\u001b[0m\u001b[1;33m:\u001b[0m\u001b[1;33m:\u001b[0m\u001b[1;36m2\u001b[0m\u001b[1;33m,\u001b[0m\u001b[1;33m:\u001b[0m\u001b[1;33m:\u001b[0m\u001b[1;36m2\u001b[0m\u001b[1;33m]\u001b[0m\u001b[1;33m,\u001b[0m\u001b[0mv\u001b[0m\u001b[1;33m[\u001b[0m\u001b[1;33m:\u001b[0m\u001b[1;33m:\u001b[0m\u001b[1;36m2\u001b[0m\u001b[1;33m,\u001b[0m\u001b[1;33m:\u001b[0m\u001b[1;33m:\u001b[0m\u001b[1;36m2\u001b[0m\u001b[1;33m]\u001b[0m\u001b[1;33m)\u001b[0m \u001b[1;31m##plotting velocity\u001b[0m\u001b[1;33m\u001b[0m\u001b[0m\n\u001b[0;32m      7\u001b[0m \u001b[0mplt\u001b[0m\u001b[1;33m.\u001b[0m\u001b[0mxlabel\u001b[0m\u001b[1;33m(\u001b[0m\u001b[1;34m'X'\u001b[0m\u001b[1;33m)\u001b[0m\u001b[1;33m\u001b[0m\u001b[0m\n",
        "\u001b[1;32m/home/cj/Enthought/Canopy_64bit/User/lib/python2.7/site-packages/matplotlib/pyplot.pyc\u001b[0m in \u001b[0;36mcontour\u001b[1;34m(*args, **kwargs)\u001b[0m\n\u001b[0;32m   2698\u001b[0m         \u001b[0max\u001b[0m\u001b[1;33m.\u001b[0m\u001b[0mhold\u001b[0m\u001b[1;33m(\u001b[0m\u001b[0mhold\u001b[0m\u001b[1;33m)\u001b[0m\u001b[1;33m\u001b[0m\u001b[0m\n\u001b[0;32m   2699\u001b[0m     \u001b[1;32mtry\u001b[0m\u001b[1;33m:\u001b[0m\u001b[1;33m\u001b[0m\u001b[0m\n\u001b[1;32m-> 2700\u001b[1;33m         \u001b[0mret\u001b[0m \u001b[1;33m=\u001b[0m \u001b[0max\u001b[0m\u001b[1;33m.\u001b[0m\u001b[0mcontour\u001b[0m\u001b[1;33m(\u001b[0m\u001b[1;33m*\u001b[0m\u001b[0margs\u001b[0m\u001b[1;33m,\u001b[0m \u001b[1;33m**\u001b[0m\u001b[0mkwargs\u001b[0m\u001b[1;33m)\u001b[0m\u001b[1;33m\u001b[0m\u001b[0m\n\u001b[0m\u001b[0;32m   2701\u001b[0m         \u001b[0mdraw_if_interactive\u001b[0m\u001b[1;33m(\u001b[0m\u001b[1;33m)\u001b[0m\u001b[1;33m\u001b[0m\u001b[0m\n\u001b[0;32m   2702\u001b[0m     \u001b[1;32mfinally\u001b[0m\u001b[1;33m:\u001b[0m\u001b[1;33m\u001b[0m\u001b[0m\n",
        "\u001b[1;32m/home/cj/Enthought/Canopy_64bit/User/lib/python2.7/site-packages/matplotlib/axes/_axes.pyc\u001b[0m in \u001b[0;36mcontour\u001b[1;34m(self, *args, **kwargs)\u001b[0m\n\u001b[0;32m   5332\u001b[0m             \u001b[0mself\u001b[0m\u001b[1;33m.\u001b[0m\u001b[0mcla\u001b[0m\u001b[1;33m(\u001b[0m\u001b[1;33m)\u001b[0m\u001b[1;33m\u001b[0m\u001b[0m\n\u001b[0;32m   5333\u001b[0m         \u001b[0mkwargs\u001b[0m\u001b[1;33m[\u001b[0m\u001b[1;34m'filled'\u001b[0m\u001b[1;33m]\u001b[0m \u001b[1;33m=\u001b[0m \u001b[0mFalse\u001b[0m\u001b[1;33m\u001b[0m\u001b[0m\n\u001b[1;32m-> 5334\u001b[1;33m         \u001b[1;32mreturn\u001b[0m \u001b[0mmcontour\u001b[0m\u001b[1;33m.\u001b[0m\u001b[0mQuadContourSet\u001b[0m\u001b[1;33m(\u001b[0m\u001b[0mself\u001b[0m\u001b[1;33m,\u001b[0m \u001b[1;33m*\u001b[0m\u001b[0margs\u001b[0m\u001b[1;33m,\u001b[0m \u001b[1;33m**\u001b[0m\u001b[0mkwargs\u001b[0m\u001b[1;33m)\u001b[0m\u001b[1;33m\u001b[0m\u001b[0m\n\u001b[0m\u001b[0;32m   5335\u001b[0m     \u001b[0mcontour\u001b[0m\u001b[1;33m.\u001b[0m\u001b[0m__doc__\u001b[0m \u001b[1;33m=\u001b[0m \u001b[0mmcontour\u001b[0m\u001b[1;33m.\u001b[0m\u001b[0mQuadContourSet\u001b[0m\u001b[1;33m.\u001b[0m\u001b[0mcontour_doc\u001b[0m\u001b[1;33m\u001b[0m\u001b[0m\n\u001b[0;32m   5336\u001b[0m \u001b[1;33m\u001b[0m\u001b[0m\n",
        "\u001b[1;32m/home/cj/Enthought/Canopy_64bit/User/lib/python2.7/site-packages/matplotlib/contour.pyc\u001b[0m in \u001b[0;36m__init__\u001b[1;34m(self, ax, *args, **kwargs)\u001b[0m\n\u001b[0;32m   1427\u001b[0m         \u001b[0mare\u001b[0m \u001b[0mdescribed\u001b[0m \u001b[1;32min\u001b[0m \u001b[0mQuadContourSet\u001b[0m\u001b[1;33m.\u001b[0m\u001b[0mcontour_doc\u001b[0m\u001b[1;33m.\u001b[0m\u001b[1;33m\u001b[0m\u001b[0m\n\u001b[0;32m   1428\u001b[0m         \"\"\"\n\u001b[1;32m-> 1429\u001b[1;33m         \u001b[0mContourSet\u001b[0m\u001b[1;33m.\u001b[0m\u001b[0m__init__\u001b[0m\u001b[1;33m(\u001b[0m\u001b[0mself\u001b[0m\u001b[1;33m,\u001b[0m \u001b[0max\u001b[0m\u001b[1;33m,\u001b[0m \u001b[1;33m*\u001b[0m\u001b[0margs\u001b[0m\u001b[1;33m,\u001b[0m \u001b[1;33m**\u001b[0m\u001b[0mkwargs\u001b[0m\u001b[1;33m)\u001b[0m\u001b[1;33m\u001b[0m\u001b[0m\n\u001b[0m\u001b[0;32m   1430\u001b[0m \u001b[1;33m\u001b[0m\u001b[0m\n\u001b[0;32m   1431\u001b[0m     \u001b[1;32mdef\u001b[0m \u001b[0m_process_args\u001b[0m\u001b[1;33m(\u001b[0m\u001b[0mself\u001b[0m\u001b[1;33m,\u001b[0m \u001b[1;33m*\u001b[0m\u001b[0margs\u001b[0m\u001b[1;33m,\u001b[0m \u001b[1;33m**\u001b[0m\u001b[0mkwargs\u001b[0m\u001b[1;33m)\u001b[0m\u001b[1;33m:\u001b[0m\u001b[1;33m\u001b[0m\u001b[0m\n",
        "\u001b[1;32m/home/cj/Enthought/Canopy_64bit/User/lib/python2.7/site-packages/matplotlib/contour.pyc\u001b[0m in \u001b[0;36m__init__\u001b[1;34m(self, ax, *args, **kwargs)\u001b[0m\n\u001b[0;32m    874\u001b[0m \u001b[1;33m\u001b[0m\u001b[0m\n\u001b[0;32m    875\u001b[0m         \u001b[0mself\u001b[0m\u001b[1;33m.\u001b[0m\u001b[0m_process_args\u001b[0m\u001b[1;33m(\u001b[0m\u001b[1;33m*\u001b[0m\u001b[0margs\u001b[0m\u001b[1;33m,\u001b[0m \u001b[1;33m**\u001b[0m\u001b[0mkwargs\u001b[0m\u001b[1;33m)\u001b[0m\u001b[1;33m\u001b[0m\u001b[0m\n\u001b[1;32m--> 876\u001b[1;33m         \u001b[0mself\u001b[0m\u001b[1;33m.\u001b[0m\u001b[0m_process_levels\u001b[0m\u001b[1;33m(\u001b[0m\u001b[1;33m)\u001b[0m\u001b[1;33m\u001b[0m\u001b[0m\n\u001b[0m\u001b[0;32m    877\u001b[0m \u001b[1;33m\u001b[0m\u001b[0m\n\u001b[0;32m    878\u001b[0m         \u001b[1;32mif\u001b[0m \u001b[0mself\u001b[0m\u001b[1;33m.\u001b[0m\u001b[0mcolors\u001b[0m \u001b[1;32mis\u001b[0m \u001b[1;32mnot\u001b[0m \u001b[0mNone\u001b[0m\u001b[1;33m:\u001b[0m\u001b[1;33m\u001b[0m\u001b[0m\n",
        "\u001b[1;32m/home/cj/Enthought/Canopy_64bit/User/lib/python2.7/site-packages/matplotlib/contour.pyc\u001b[0m in \u001b[0;36m_process_levels\u001b[1;34m(self)\u001b[0m\n\u001b[0;32m   1205\u001b[0m         \u001b[1;31m# The following attributes are no longer needed, and\u001b[0m\u001b[1;33m\u001b[0m\u001b[1;33m\u001b[0m\u001b[0m\n\u001b[0;32m   1206\u001b[0m         \u001b[1;31m# should be deprecated and removed to reduce confusion.\u001b[0m\u001b[1;33m\u001b[0m\u001b[1;33m\u001b[0m\u001b[0m\n\u001b[1;32m-> 1207\u001b[1;33m         \u001b[0mself\u001b[0m\u001b[1;33m.\u001b[0m\u001b[0mvmin\u001b[0m \u001b[1;33m=\u001b[0m \u001b[0mnp\u001b[0m\u001b[1;33m.\u001b[0m\u001b[0mamin\u001b[0m\u001b[1;33m(\u001b[0m\u001b[0mself\u001b[0m\u001b[1;33m.\u001b[0m\u001b[0mlevels\u001b[0m\u001b[1;33m)\u001b[0m\u001b[1;33m\u001b[0m\u001b[0m\n\u001b[0m\u001b[0;32m   1208\u001b[0m         \u001b[0mself\u001b[0m\u001b[1;33m.\u001b[0m\u001b[0mvmax\u001b[0m \u001b[1;33m=\u001b[0m \u001b[0mnp\u001b[0m\u001b[1;33m.\u001b[0m\u001b[0mamax\u001b[0m\u001b[1;33m(\u001b[0m\u001b[0mself\u001b[0m\u001b[1;33m.\u001b[0m\u001b[0mlevels\u001b[0m\u001b[1;33m)\u001b[0m\u001b[1;33m\u001b[0m\u001b[0m\n\u001b[0;32m   1209\u001b[0m \u001b[1;33m\u001b[0m\u001b[0m\n",
        "\u001b[1;32m/home/cj/Enthought/Canopy_64bit/User/lib/python2.7/site-packages/numpy/core/fromnumeric.pyc\u001b[0m in \u001b[0;36mamin\u001b[1;34m(a, axis, out, keepdims)\u001b[0m\n\u001b[0;32m   2212\u001b[0m     \u001b[1;32melse\u001b[0m\u001b[1;33m:\u001b[0m\u001b[1;33m\u001b[0m\u001b[0m\n\u001b[0;32m   2213\u001b[0m         return _methods._amin(a, axis=axis,\n\u001b[1;32m-> 2214\u001b[1;33m                             out=out, keepdims=keepdims)\n\u001b[0m\u001b[0;32m   2215\u001b[0m \u001b[1;33m\u001b[0m\u001b[0m\n\u001b[0;32m   2216\u001b[0m \u001b[1;32mdef\u001b[0m \u001b[0malen\u001b[0m\u001b[1;33m(\u001b[0m\u001b[0ma\u001b[0m\u001b[1;33m)\u001b[0m\u001b[1;33m:\u001b[0m\u001b[1;33m\u001b[0m\u001b[0m\n",
        "\u001b[1;32m/home/cj/Enthought/Canopy_64bit/User/lib/python2.7/site-packages/numpy/core/_methods.pyc\u001b[0m in \u001b[0;36m_amin\u001b[1;34m(a, axis, out, keepdims)\u001b[0m\n\u001b[0;32m     19\u001b[0m \u001b[1;32mdef\u001b[0m \u001b[0m_amin\u001b[0m\u001b[1;33m(\u001b[0m\u001b[0ma\u001b[0m\u001b[1;33m,\u001b[0m \u001b[0maxis\u001b[0m\u001b[1;33m=\u001b[0m\u001b[0mNone\u001b[0m\u001b[1;33m,\u001b[0m \u001b[0mout\u001b[0m\u001b[1;33m=\u001b[0m\u001b[0mNone\u001b[0m\u001b[1;33m,\u001b[0m \u001b[0mkeepdims\u001b[0m\u001b[1;33m=\u001b[0m\u001b[0mFalse\u001b[0m\u001b[1;33m)\u001b[0m\u001b[1;33m:\u001b[0m\u001b[1;33m\u001b[0m\u001b[0m\n\u001b[0;32m     20\u001b[0m     return um.minimum.reduce(a, axis=axis,\n\u001b[1;32m---> 21\u001b[1;33m                             out=out, keepdims=keepdims)\n\u001b[0m\u001b[0;32m     22\u001b[0m \u001b[1;33m\u001b[0m\u001b[0m\n\u001b[0;32m     23\u001b[0m \u001b[1;32mdef\u001b[0m \u001b[0m_sum\u001b[0m\u001b[1;33m(\u001b[0m\u001b[0ma\u001b[0m\u001b[1;33m,\u001b[0m \u001b[0maxis\u001b[0m\u001b[1;33m=\u001b[0m\u001b[0mNone\u001b[0m\u001b[1;33m,\u001b[0m \u001b[0mdtype\u001b[0m\u001b[1;33m=\u001b[0m\u001b[0mNone\u001b[0m\u001b[1;33m,\u001b[0m \u001b[0mout\u001b[0m\u001b[1;33m=\u001b[0m\u001b[0mNone\u001b[0m\u001b[1;33m,\u001b[0m \u001b[0mkeepdims\u001b[0m\u001b[1;33m=\u001b[0m\u001b[0mFalse\u001b[0m\u001b[1;33m)\u001b[0m\u001b[1;33m:\u001b[0m\u001b[1;33m\u001b[0m\u001b[0m\n",
        "\u001b[1;31mValueError\u001b[0m: zero-size array to reduction operation minimum which has no identity"
       ]
      },
      {
       "metadata": {},
       "output_type": "display_data",
       "png": "[encoded data removed]",
       "text": [
        "<matplotlib.figure.Figure at 0x38f4050>"
       ]
      }
     ],
     "prompt_number": 24
    },
    {
     "cell_type": "heading",
     "level": 2,
     "metadata": {},
     "source": [
      "Result Confirmation:"
     ]
    },
    {
     "cell_type": "heading",
     "level": 2,
     "metadata": {},
     "source": [
      "References:"
     ]
    },
    {
     "cell_type": "markdown",
     "metadata": {},
     "source": [
      "Strikwerda, John C. \"Finite Difference Schemes and Partial Differential Equations\", Wadsworth & Brooks/Cole Advanced Books & Software, Belmont, CA, 1989\n",
      "\n",
      "Matt's ipython notebook\n",
      "\n",
      "FLuids Textbook\n",
      "\n",
      "BArba CFD Class\n",
      "\n",
      "CFD Textbook Anderson"
     ]
    },
    {
     "cell_type": "code",
     "collapsed": false,
     "input": [
      "from IPython.core.display import HTML\n",
      "css_file = '../../styles/numericalmoocstyle.css'\n",
      "HTML(open(css_file, \"r\").read())"
     ],
     "language": "python",
     "metadata": {},
     "outputs": [
      {
       "ename": "IOError",
       "evalue": "[Errno 2] No such file or directory: '../../styles/numericalmoocstyle.css'",
       "output_type": "pyerr",
       "traceback": [
        "\u001b[1;31m---------------------------------------------------------------------------\u001b[0m\n\u001b[1;31mIOError\u001b[0m                                   Traceback (most recent call last)",
        "\u001b[1;32m<ipython-input-9-fde599084f9c>\u001b[0m in \u001b[0;36m<module>\u001b[1;34m()\u001b[0m\n\u001b[0;32m      1\u001b[0m \u001b[1;32mfrom\u001b[0m \u001b[0mIPython\u001b[0m\u001b[1;33m.\u001b[0m\u001b[0mcore\u001b[0m\u001b[1;33m.\u001b[0m\u001b[0mdisplay\u001b[0m \u001b[1;32mimport\u001b[0m \u001b[0mHTML\u001b[0m\u001b[1;33m\u001b[0m\u001b[0m\n\u001b[0;32m      2\u001b[0m \u001b[0mcss_file\u001b[0m \u001b[1;33m=\u001b[0m \u001b[1;34m'../../styles/numericalmoocstyle.css'\u001b[0m\u001b[1;33m\u001b[0m\u001b[0m\n\u001b[1;32m----> 3\u001b[1;33m \u001b[0mHTML\u001b[0m\u001b[1;33m(\u001b[0m\u001b[0mopen\u001b[0m\u001b[1;33m(\u001b[0m\u001b[0mcss_file\u001b[0m\u001b[1;33m,\u001b[0m \u001b[1;34m\"r\"\u001b[0m\u001b[1;33m)\u001b[0m\u001b[1;33m.\u001b[0m\u001b[0mread\u001b[0m\u001b[1;33m(\u001b[0m\u001b[1;33m)\u001b[0m\u001b[1;33m)\u001b[0m\u001b[1;33m\u001b[0m\u001b[0m\n\u001b[0m",
        "\u001b[1;31mIOError\u001b[0m: [Errno 2] No such file or directory: '../../styles/numericalmoocstyle.css'"
       ]
      }
     ],
     "prompt_number": 9
    },
    {
     "cell_type": "markdown",
     "metadata": {},
     "source": [
      "Gilbert Comments:\n",
      "\n",
      "Check NS solver w/ Kim and Moin\n",
      "\n",
      "Check acoustic solver\n",
      "\n",
      "find source for $b_{i,j}$ term use barba or her source"
     ]
    },
    {
     "cell_type": "code",
     "collapsed": false,
     "input": [],
     "language": "python",
     "metadata": {},
     "outputs": []
    }
   ],
   "metadata": {}
  }
 ]
}