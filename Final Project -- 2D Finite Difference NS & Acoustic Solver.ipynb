{
 "metadata": {
  "name": "",
  "signature": "sha256:9cecb83870ed4f4acddf361b6bf96ee4985b76872aa3355bdfed5545cc87e994"
 },
 "nbformat": 3,
 "nbformat_minor": 0,
 "worksheets": [
  {
   "cells": [
    {
     "cell_type": "heading",
     "level": 6,
     "metadata": {},
     "source": [
      "Content was created by Christopher Bell for Professor Lorena Barba's MAE 6286 Numerical Methods at The George Washington University, 2014. References are listed at the end of this document.\n",
      "\n",
      "Text and code provided under a Creative Commons Attribution license, CC-BY. (c) Christopher Bell, 2014."
     ]
    },
    {
     "cell_type": "heading",
     "level": 1,
     "metadata": {},
     "source": [
      "2D Finite Difference Navier-Stokes & Acoustic Solver"
     ]
    },
    {
     "cell_type": "heading",
     "level": 2,
     "metadata": {},
     "source": [
      "Problem Motivation"
     ]
    },
    {
     "cell_type": "markdown",
     "metadata": {},
     "source": [
      "I choose this problem for two reasons, my desire to write a Navier-Stokes solver and to advanced a project set forth in my undergraduate fluids class. The problem I will be investigating is the effect of buffetting over an open cavity. Most people are familair with this problem from opening their car's sunroof on the highway and hearing that annoying sound. The goal of this project is to model the physics of that system by using a Navier-Stokes solver with acoustics to model cavity flow. The code will begin with a derivation and implementation of the Navier-Stokes solver to get that working before adding the acoustics after."
     ]
    },
    {
     "cell_type": "heading",
     "level": 3,
     "metadata": {},
     "source": [
      "2D Navier-Stokes Derivation"
     ]
    },
    {
     "cell_type": "markdown",
     "metadata": {},
     "source": [
      "The Navier-Stokes equations and continuity are defined as:\n",
      "\n",
      "$$\\frac{\\partial{\\vec{v}}}{\\partial{t}}+\\left(\\vec{v} \\cdot \\nabla \\right)\\vec{v} = \\frac{-1}{\\rho} \\nabla P + \\nu \\nabla^2 \\vec{v}$$\n",
      "\n",
      "$$\\nabla \\cdot \\vec{v} = 0$$\n",
      "\n",
      "Due to the Laplace operators this equation obviously represents a 3D system; however, for simplicity the z-direction will be ignored and the equations will be solved in 2D."
     ]
    },
    {
     "cell_type": "heading",
     "level": 5,
     "metadata": {},
     "source": [
      "2D Burgers Equation Derivation & Discretization"
     ]
    },
    {
     "cell_type": "markdown",
     "metadata": {},
     "source": [
      "The momentum equation above represents the Burgers Equation in 2D with an additional pressure term. That means we can use what we did in Module 2-04 in deriving the Burgers Equation in 1D but extend it to 2D. The only addition we need to make is a source term. The Cavity Flow will be set up as pressure driven flow and thus a source term, $F$, will be added to the $u$-direction (flow will be left to right the same as the x-direction and y will be perpendicular to the flow direction) equations to model this.\n",
      "\n",
      "Burgers Equation in 2D without our additional forcing term is:\n",
      "\n",
      "$$\\frac{\\partial u}{\\partial t}+u\\frac{\\partial u}{\\partial x}+v\\frac{\\partial u}{\\partial y}=\\nu\\left(\\frac{\\partial^2 u}{\\partial x^2}+\\frac{\\partial^2 u}{\\partial y^2}\\right)$$\n",
      "\n",
      "Incorporating the pressure term and rewritting the equations for each dimension yields:\n",
      "\n",
      "$$\\frac{\\partial u}{\\partial t}+u\\frac{\\partial u}{\\partial x}+v\\frac{\\partial u}{\\partial y}=-\\frac{1}{\\rho}\\frac{\\partial p}{\\partial x}+\\nu\\left(\\frac{\\partial^2 u}{\\partial x^2}+\\frac{\\partial^2 u}{\\partial y^2}\\right)$$\n",
      "\n",
      "$$\\frac{\\partial v}{\\partial t}+u\\frac{\\partial v}{\\partial x}+v\\frac{\\partial v}{\\partial y}=-\\frac{1}{\\rho}\\frac{\\partial p}{\\partial y}+\\nu\\left(\\frac{\\partial^2 v}{\\partial x^2}+\\frac{\\partial^2 v}{\\partial y^2}\\right)$$\n"
     ]
    },
    {
     "cell_type": "markdown",
     "metadata": {},
     "source": [
      "Once again as we did in Module 2-04 we will model the Burgers Equation using a forward time backward space scheme. This yields:\n",
      "\n",
      "$$\\frac{u_{i,j}^{n+1}-u_{i,j}^{n}}{\\Delta t}+u_{i,j}^{n}\\frac{u_{i,j}^{n}-u_{i-1,j}^{n}}{\\Delta x}+v_{i,j}^{n}\\frac{u_{i,j}^{n}-u_{i,j-1}^{n}}{\\Delta y}=-\\frac{1}{\\rho}\\frac{p_{i+1,j}^{n}-p_{i-1,j}^{n}}{2\\Delta x}+\\nu\\left(\\frac{u_{i+1,j}^{n}-2u_{i,j}^{n}+u_{i-1,j}^{n}}{\\Delta x^2}+\\frac{u_{i,j+1}^{n}-2u_{i,j}^{n}+u_{i,j-1}^{n}}{\\Delta y^2}\\right)+F_{i,j}$$\n",
      "\n",
      "$$\\frac{v_{i,j}^{n+1}-v_{i,j}^{n}}{\\Delta t}+u_{i,j}^{n}\\frac{v_{i,j}^{n}-v_{i-1,j}^{n}}{\\Delta x}+v_{i,j}^{n}\\frac{v_{i,j}^{n}-v_{i,j-1}^{n}}{\\Delta y}=-\\frac{1}{\\rho}\\frac{p_{i+1,j}^{n}-p_{i-1,j}^{n}}{2\\Delta x}+\\nu\\left(\\frac{v_{i+1,j}^{n}-2v_{i,j}^{n}+v_{i-1,j}^{n}}{\\Delta x^2}+\\frac{v_{i,j+1}^{n}-2v_{i,j}^{n}+v_{i,j-1}^{n}}{\\Delta y^2}\\right)$$"
     ]
    },
    {
     "cell_type": "markdown",
     "metadata": {},
     "source": [
      "Next we need to solve these equations for $u_{i,j}^{n+1}$ & $v_{i,j}^{n+1}$\n",
      "\n",
      "$$u_{i,j}^{n+1} = u_{i,j}^n-\\frac{1}{\\rho}\\frac{\\Delta t}{2\\Delta x}\\left(P_{i+1,j}-P_{i-1,j}\\right) + \\nu\\frac{\\Delta t}{\\Delta x^2}\\left(u_{i+1,j}^n-2u_{i,j}^n+u_{i-1,j}^n\\right) + \\nu\\frac{\\Delta t}{\\Delta y^2}\\left(u_{i,j+1}^n-2u_{i,j}^n+u_{i,j-1}^n\\right) - u_{i,j}^n\\frac{\\Delta t}{\\Delta x}\\left(u_{i,j}^n-u_{i-1,j}^n\\right) - v_{i,j}^n\\frac{\\Delta t}{\\Delta y}\\left(u_{i,j}^n-u_{i,j-1}^n\\right) + \\Delta t F_{i,j}$$\n",
      "\n",
      "$$v_{i,j}^{n+1} = v_{i,j}^n-\\frac{1}{\\rho}\\frac{\\Delta t}{2\\Delta y}\\left(P_{i+1,j}-P_{i-1,j}\\right) + \\nu\\frac{\\Delta t}{\\Delta x^2}\\left(v_{i+1,j}^n-2v_{i,j}^n+v_{i-1,j}^n\\right) + \\nu\\frac{\\Delta t}{\\Delta y^2}\\left(v_{i,j+1}^n-2v_{i,j}^n+v_{i,j-1}^n\\right) - u_{i,j}^n\\frac{\\Delta t}{\\Delta x}\\left(v_{i,j}^n-v_{i-1,j}^n\\right) - v_{i,j}^n\\frac{\\Delta t}{\\Delta y}\\left(v_{i,j}^n-v_{i,j-1}^n\\right)$$\n",
      "\n",
      "This equations can be simplified further if we assume that $\\Delta x$ $=$ $\\Delta y$, but that will not be done to keep the code as general as possible."
     ]
    },
    {
     "cell_type": "heading",
     "level": 5,
     "metadata": {},
     "source": [
      "2D Poisson Equation Derivation & Discretization"
     ]
    },
    {
     "cell_type": "markdown",
     "metadata": {},
     "source": [
      "As you probably noticed in the Burger's Equation above, we have a pressure term but no way to solve it. That's what the Poisson equation is for. Before we get there we need to solve a problem though. For incompressible flow the continutity equation provides no way to combine a pressure term and a velocity term. This is because unlike compressible flow continuity is only a function of velocity. In compressible flow density is able to change which when combined with an equation such as $PV=nRT$.\n",
      "\n",
      "The Laplace equation is defined as:\n",
      "\n",
      "$$\\frac{\\partial^2 P}{\\partial x^2} + \\frac{\\partial^2 P}{\\partial y^2} = 0$$\n",
      "\n",
      "To form the Poisson Equation a source term is added to the equation, thus providing our driving pressure for our pressure driven flow.\n",
      "\n",
      "$$\\frac{\\partial^2 P}{\\partial x^2} + \\frac{\\partial^2 P}{\\partial y^2} = b_{i,j}^n$$\n",
      "\n",
      "$b_{i,j}^n$ is a complicated calculation found by taking the divergence of the momentum equation and rewritten in the form we need. Due to the complexity here we will be using Professor Barba's result from her CFD class.\n",
      "\n",
      "$$b_{i,j}^n = -\\rho \\left(\\frac{\\partial u}{\\partial x}\\frac{\\partial u}{\\partial x} + 2 \\frac{\\partial u}{\\partial y}\\frac{\\partial v}{\\partial x} + \\frac{\\partial v}{\\partial y}\\frac{\\partial v}{\\partial y} \\right)$$\n",
      "\n",
      "Now we need to discritize this equation. First we need to think about the physics of the problem. The pressure field will act by spreading out through the computational domain like a diffusion problem which we talked in Module 2-03. Second we need to use our past experience discretizing with second derivatives. This yields:\n",
      "\n",
      "$$\\frac{P_{i+1,j}^n - 2P_{i,j} + P_{i-1,j}^n}{\\Delta x^2} + \\frac{P_{i,j+1}^n - 2P_{i,j} + P_{i,j-1}^n}{\\Delta y^2} = b_{i,j}^n$$\n",
      "\n",
      "And solving for the pressure at the current location $i,j$:\n",
      "\n",
      "$$P_{i,j}^n = \\frac{\\left(P_{i+1,j}^n + P_{i-1,j}^n\\right)\\Delta y^2 + \\left(P_{i,j+1}^n + P_{i,j-1}^n\\right)\\Delta x^2 - b_{i,j}^n \\Delta x^2 \\Delta y^2}{2\\left(\\Delta x^2 + \\Delta y^2 \\right)}$$\n",
      "\n"
     ]
    },
    {
     "cell_type": "markdown",
     "metadata": {},
     "source": [
      "Now we need to descritze our source term $b_{i,j}^n$, using a central scheme\n",
      "\n",
      "$$b_{i,j}^n = -\\rho \\left[\\frac{1}{\\Delta t} \\left(\\frac{(u_{i+1,j} - u_{i-1,j}}{2\\Delta x} + \\frac{v_{i,j+1} - v_{i,j-1}}{2\\Delta y}\\right) \\frac{u_{i+1,j}^n + u_{i-1,j}^n}{2\\Delta x} \\frac{u_{i+1,j}^n + u_{i-1,j}^n}{2\\Delta x} + 2 \\frac{u_{i,j+1}^n + u_{i,j-1}^n}{2\\Delta y} \\frac{v_{i+1,j}^n + v_{i-1,j}^n}{2\\Delta x} + \\frac{v_{i,j+1}^n + v_{i,j-1}^n}{2\\Delta y} \\frac{v_{i,j+1}^n + v_{i,j-1}^n}{2\\Delta y}\\right] $$\n",
      "\n",
      "Plugging this expression in for $b_{i,j}^n$ and simplfying yields:\n",
      "\n",
      "$$P_{i,j}^n = \\frac{\\left(P_{i+1,j}^n + P_{i-1,j}^n\\right)\\Delta y^2 + \\left(P_{i,j+1}^n + P_{i,j-1}^n\\right)\\Delta x^2}{2\\left(\\Delta x^2 + \\Delta y^2\\right)} - \\frac{\\rho \\Delta x^2 \\Delta y^2}{2\\left(\\Delta x^2 + \\Delta y^2\\right)}\\left[\\frac{1}{\\Delta t} \\left(\\frac{u_{i+1,j} - u_{i-1,j}}{2\\Delta x} + \\frac{v_{i,j+1} - v_{i,j-1}}{2\\Delta y}\\right) - \\frac{u_{i+1,j}^n + u_{i-1,j}^n}{2\\Delta x} \\frac{u_{i+1,j}^n + u_{i-1,j}^n}{2\\Delta x} - 2 \\frac{u_{i,j+1}^n + u_{i,j-1}^n}{2\\Delta y} \\frac{v_{i+1,j}^n + v_{i-1,j}^n}{2\\Delta x} - \\frac{v_{i,j+1}^n + v_{i,j-1}^n}{2\\Delta y} \\frac{v_{i,j+1}^n + v_{i,j-1}^n}{2\\Delta y}\\right]$$"
     ]
    },
    {
     "cell_type": "heading",
     "level": 3,
     "metadata": {},
     "source": [
      "Boundary & Initial Condition Set-up"
     ]
    },
    {
     "cell_type": "markdown",
     "metadata": {},
     "source": [
      "The domain will stretch from 0 to 2 meters in both the x and y directions with the cavity occupying the entire domain. The flow will be model somewhat similair to a Couette flow with the top of the domain forcing the fluid. Thus we will set are boundary conditions as follows:\n",
      "\n",
      "$u\\left(x,2,t\\right)=1$\n",
      "\n",
      "$u\\left(x,y,t\\right)$ & $v\\left(x,y,t\\right) = 0$ everywhere else\n",
      "\n",
      "$\\frac{\\partial P\\left(x,0,t\\right)}{\\partial y} = 0$\n",
      "\n",
      "$P\\left(x,2,t\\right)=0$\n",
      "\n",
      "$\\frac{\\partial P\\left(0 \\& 2,y,t\\right)}{\\partial x} = 0$\n",
      "\n",
      "Now we are left with the initial conditions which we will set to zero everywhere for $u, v, P$"
     ]
    },
    {
     "cell_type": "heading",
     "level": 5,
     "metadata": {},
     "source": [
      "CFL Conditions"
     ]
    },
    {
     "cell_type": "markdown",
     "metadata": {},
     "source": [
      "All of the equations in this notebook are nonlinear PDE's which means we can't use Von Neumann Stability Analysis. So how do we tell if the system is stable? The are some advanced was to look at stability of nonlinear PDE's involving the eigenvalues of the jacobian, but for simplicity we will just pick or spacial and time steps through trial and error to make sure the solution does not blow up.\n",
      "\n"
     ]
    },
    {
     "cell_type": "heading",
     "level": 2,
     "metadata": {},
     "source": [
      "Code"
     ]
    },
    {
     "cell_type": "markdown",
     "metadata": {},
     "source": [
      "First, we need to import our libraries and we will be using a few new ones for this notebook. These new libraries allow use access to more advanced plotting tools. Feel free to read their documentation online."
     ]
    },
    {
     "cell_type": "code",
     "collapsed": false,
     "input": [
      "import numpy as np\n",
      "from mpl_toolkits.mplot3d import Axes3D\n",
      "from matplotlib import cm\n",
      "import matplotlib.pyplot as plt\n",
      "%matplotlib inline\n",
      "from matplotlib import animation\n",
      "from pylab import rcParams\n",
      "rcParams['figure.figsize'] = (10.0, 8.0)"
     ],
     "language": "python",
     "metadata": {},
     "outputs": [],
     "prompt_number": 11
    },
    {
     "cell_type": "heading",
     "level": 5,
     "metadata": {},
     "source": [
      "Boundary Conditions, Initial conditions, Grid Creation, and Problem Set-up"
     ]
    },
    {
     "cell_type": "code",
     "collapsed": false,
     "input": [
      "nx = 41 #number of x grid points\n",
      "ny = 41 #number of y grid points\n",
      "nt = 500 #number of time steps\n",
      "#nit = 81 #pseudo time for P\n",
      "dt = .001 #size of time steps\n",
      "dx = 2.0/(nx-1) #size of x steps\n",
      "dy = 2.0/(ny-1) #size of y steps\n",
      "sigma = 1 #CFL\n",
      "rho = 1 #kg/m^3\n",
      "nu = .1 #1.846*10.0**-5.0 #kg/m s # need highly viscous flow but why?\n",
      "c = 340.29 #m/s\n",
      "epsilon = .00001 # Residual goal for P\n",
      "\n",
      "x = linspace(0.0,2.0,nx)\n",
      "y = linspace(0.0,2.0,ny)\n",
      "Y,X = np.meshgrid(y,x)\n",
      "\n",
      "u = np.zeros((ny,nx))\n",
      "v = np.zeros((ny,nx))\n",
      "P = np.zeros((ny,nx))\n",
      "b = np.zeros((ny,nx))"
     ],
     "language": "python",
     "metadata": {},
     "outputs": [],
     "prompt_number": 12
    },
    {
     "cell_type": "markdown",
     "metadata": {},
     "source": [
      "We used a new function [Meshgrid](http://docs.scipy.org/doc/numpy/reference/generated/numpy.meshgrid.html) in the last cell you should look it up\n",
      "\n",
      "\n",
      "We also did one other new thing did you notice it? We made 2D variables for $u$, $v$, $P$, and $b$. We need to remember what learned in module 4 for 2D arrays. Mainly, that python defines by the y variable first unlike our intuition.\n",
      "\n",
      "You may be wondering why we created an additional $b$ variable. This is to make our lives easier as demonstrate by Professor Barba in her CFDPython class. The Poisson equation is quite long and difficult to code without a typo, so we split it up into two variables. The question is how to split it up? Why not use $b_{i,j}^n$ from the derivation of the equation."
     ]
    },
    {
     "cell_type": "code",
     "collapsed": false,
     "input": [
      "def b_ij(u, v, dx, dy, rho):\n",
      "    \"\"\"Computes the b_ij term in the Poisson equation\n",
      "    \n",
      "    Parameters:\n",
      "    ------\n",
      "    u:    array of float\n",
      "          velocity in the x direction\n",
      "    \n",
      "    v:    array of float\n",
      "          velocity in the y direction\n",
      "    \n",
      "    dx:   float\n",
      "          grid step size\n",
      "        \n",
      "    dy:   float\n",
      "          grid step size\n",
      "          \n",
      "    rho:  float\n",
      "          density of air\n",
      "        \n",
      "    b:    array of float\n",
      "          empty array for function\n",
      "          \n",
      "    Returns:\n",
      "    -------\n",
      "    b:    array of float\n",
      "          b term of Poisson equation\n",
      "    \"\"\"\n",
      "    \n",
      "    b = np.zeros((ny,nx))\n",
      "    b[1:-1,1:-1] =  rho*(1/dt*((u[2:,1:-1] - u[0:-2,1:-1])/(2*dx) + (v[1:-1,2:] - v[1:-1,0:-2])/(2*dy))-\\\n",
      "        ((u[2:,1:-1] - u[0:-2,1:-1])/(2*dx)) * ((u[2:,1:-1] - u[0:-2,1:-1])/(2*dx))-\\\n",
      "        2*((u[1:-1,2:] - u[1:-1,0:-2])/(2*dy) * (v[2:,1:-1] - v[0:-2,1:-1])/(2*dx))-\\\n",
      "        ((v[1:-1,2:] - v[1:-1,0:-2])/(2*dy)) * ((v[1:-1,2:] - v[1:-1,0:-2])/(2*dy)))\n",
      "        \n",
      "    return b"
     ],
     "language": "python",
     "metadata": {},
     "outputs": [],
     "prompt_number": 13
    },
    {
     "cell_type": "markdown",
     "metadata": {},
     "source": [
      "For the Poisson solver since it does not calculate in time, we will also be calculating the residual at each time step. The L2 norm of the residuals will then be compared to a desired error value."
     ]
    },
    {
     "cell_type": "code",
     "collapsed": false,
     "input": [
      "def Poisson2D(dx, dy, b, P):\n",
      "    \"\"\"Computes the Poisson equation\n",
      "    \n",
      "    Parameters:\n",
      "    ------\n",
      "    P:    array of float\n",
      "          empty array for function\n",
      "    \n",
      "    dx:   float\n",
      "          grid step size\n",
      "    \n",
      "    dy:   float\n",
      "          grid step size\n",
      "        \n",
      "    b:    array of float\n",
      "          b term of Poisson equation\n",
      "          \n",
      "    Returns:\n",
      "    -------\n",
      "    P:    array of float\n",
      "          Results of Poisson equation\n",
      "    \"\"\"\n",
      "    \n",
      "    Pn = np.zeros((ny,nx))\n",
      "    erP = 1\n",
      "    while erP > epsilon:\n",
      "    #for k in range(1,nit):\n",
      "        Pn = P.copy()\n",
      "        P[1:-1,1:-1] = ((Pn[2:,1:-1] + Pn[0:-2,1:-1])*dy**2) + ((Pn[1:-1,2:] + Pn[1:-1,0:-2])*dx**2)/(2*(dx**2 + dy**2))-\\\n",
      "            ((dx**2)*(dy**2))/(2*(dx**2 + dy**2)) * b[1:-1,1:-1]\n",
      "\n",
      "        P[-1,:] = P[-2,:] ##dp/dy = 0 at y = 2\n",
      "        P[0,:] = P[1,:]   ##dp/dy = 0 at y = 0\n",
      "        P[:,0] = P[:,1]   ##dp/dx = 0 at x = 0\n",
      "        P[:,-1] = 0       ##p = 0 at x = 2\n",
      "        errorP = P - Pn\n",
      "        erP = np.linalg.norm(errorP)\n",
      "    return P"
     ],
     "language": "python",
     "metadata": {},
     "outputs": [],
     "prompt_number": 14
    },
    {
     "cell_type": "code",
     "collapsed": false,
     "input": [
      "def Burger2D(u, v, P, dt, dx, dy, rho, nu, nt):\n",
      "    \"\"\"Computes the velocities of the flow\n",
      "    \n",
      "    Parameters:\n",
      "    ------\n",
      "    u:    array of float\n",
      "          velocity in the x direction\n",
      "    \n",
      "    v:    array of float\n",
      "          velocity in the y direction\n",
      "          \n",
      "    P:    array of float\n",
      "          Results of Poisson equation\n",
      "          \n",
      "    dt:   float\n",
      "          time step size\n",
      "    \n",
      "    dx:   float\n",
      "          grid step size\n",
      "    \n",
      "    dy:   float\n",
      "          grid step size\n",
      "          \n",
      "    rho:  float\n",
      "          density of air\n",
      "        \n",
      "    nu:   float\n",
      "          Dynamic viscosity of air\n",
      "          \n",
      "    nt:   float\n",
      "          Number of time steps\n",
      "          \n",
      "    Returns:\n",
      "    -------\n",
      "    u:    array of float\n",
      "          x direction velocities\n",
      "          \n",
      "    v:    array of float\n",
      "          y direction velocities\n",
      "    \"\"\"\n",
      "    un = np.empty_like(u)\n",
      "    vn = np.empty_like(v)\n",
      "    bn = np.zeros((ny,nx))\n",
      "    eru = 1\n",
      "    erv = 1\n",
      "    \n",
      "    \n",
      "    for n in range(1,nt):\n",
      "        un = u.copy()\n",
      "        vn = v.copy()\n",
      "        bn = b_ij(u, v, dx, dy, rho)\n",
      "        P = Poisson2D(dx, dy, bn, P)\n",
      "        \n",
      "        u[1:-1,1:-1] = un[1:-1,1:-1] -\\\n",
      "            (dt/(rho*2*dx))*(P[2:,1:-1] - P[0:-2,1:-1])+\\\n",
      "            (nu*dt/(dx**2))*(un[2:,1:-1] - 2*un[1:-1,1:-1] + un[0:-2,1:-1])+\\\n",
      "            (nu*dt/(dy**2))*(un[1:-1,2:] - 2*un[1:-1,1:-1] + un[1:-1,0:-2])-\\\n",
      "            un[1:-1,1:-1]*(dt/dx)*(un[1:-1,1:-1] - un[0:-2,1:-1])-\\\n",
      "            vn[1:-1,1:-1]*(dt/dy)*(un[1:-1,1:-1] - un[1:-1,0:-2])\n",
      "        #using 2: because 2 values are clipped in j\n",
      "        \n",
      "        v[1:-1,1:-1] = vn[1:-1,1:-1] -\\\n",
      "            (dt/(rho*2*dx))*(P[1:-1,2:] - P[1:-1,0:-2])+\\\n",
      "            (nu*dt/(dx**2))*(vn[2:,1:-1] - 2*vn[1:-1,1:-1] + vn[0:-2,1:-1,])+\\\n",
      "            (nu*dt/(dy**2))*(vn[1:-1,2:] - 2*vn[1:-1,1:-1] + vn[1:-1,0:-2])-\\\n",
      "            un[1:-1,1:-1]*(dt/dx)*(vn[1:-1,1:-1] - vn[0:-2,1:-1])-\\\n",
      "            vn[1:-1,1:-1]*(dt/dy)*(vn[1:-1,1:-1] - un[1:-1,0:-2])\n",
      "        #using 2: because 2 values are clipped in i\n",
      "        \n",
      "        F = np.array([u,v])\n",
      "        vort = np.gradient(F) #vorticity\n",
      "        #vort = 1\n",
      "        #F = 1\n",
      "        \n",
      "        u[0,:] = 0 #assign the clipped values\n",
      "        u[:,0] = 0\n",
      "        u[:,-1] = 1\n",
      "        v[0,:] = 0\n",
      "        v[-1,:]=0\n",
      "        v[:,0] = 0\n",
      "        v[:,-1] = 0\n",
      "        u[-1,:] = 0\n",
      "        \n",
      "    return u, v, P, bn, vort, F"
     ],
     "language": "python",
     "metadata": {},
     "outputs": [],
     "prompt_number": 49
    },
    {
     "cell_type": "markdown",
     "metadata": {},
     "source": [
      "Next we are going to use Matplotlib's [Countour Plotting](http://matplotlib.org/examples/pylab_examples/contour_demo.html) ability.\n",
      "\n"
     ]
    },
    {
     "cell_type": "code",
     "collapsed": false,
     "input": [
      "u = np.zeros((ny,nx))\n",
      "v = np.zeros((ny,nx))\n",
      "P = np.zeros((ny,nx))\n",
      "#b = np.zeros((ny,nx))\n",
      "nt = 700\n",
      "u, v, P, bn, vorticity, F = Burger2D(u, v, P, dt, dx, dy, rho, nu, nt)\n",
      "fig = plt.figure(figsize=(11,7), dpi=100)\n",
      "plt.contourf(X,Y,P,alpha=0.5)    ###plotting the pressure field as a contour\n",
      "plt.colorbar()\n",
      "plt.contour(X,Y,P)               ###plotting the pressure field outlines\n",
      "plt.quiver(X[::2,::2],Y[::2,::2],u[::2,::2],v[::2,::2], units='width') ##plotting velocity\n",
      "plt.xlabel('X')\n",
      "plt.ylabel('Y')\n"
     ],
     "language": "python",
     "metadata": {},
     "outputs": [
      {
       "metadata": {},
       "output_type": "pyout",
       "prompt_number": 50,
       "text": [
        "<matplotlib.text.Text at 0x5d0ae90>"
       ]
      },
      {
       "metadata": {},
       "output_type": "display_data",
       "png": "[encoded data removed]",
       "text": [
        "<matplotlib.figure.Figure at 0x5d0d590>"
       ]
      }
     ],
     "prompt_number": 50
    },
    {
     "cell_type": "code",
     "collapsed": false,
     "input": [
      "print u.ndim"
     ],
     "language": "python",
     "metadata": {},
     "outputs": [
      {
       "output_type": "stream",
       "stream": "stdout",
       "text": [
        "2\n"
       ]
      }
     ],
     "prompt_number": 54
    },
    {
     "cell_type": "code",
     "collapsed": false,
     "input": [
      "print F.ndim"
     ],
     "language": "python",
     "metadata": {},
     "outputs": [
      {
       "output_type": "stream",
       "stream": "stdout",
       "text": [
        "3\n"
       ]
      }
     ],
     "prompt_number": 51
    },
    {
     "cell_type": "code",
     "collapsed": false,
     "input": [
      "print vorticity.ndim"
     ],
     "language": "python",
     "metadata": {},
     "outputs": [
      {
       "ename": "AttributeError",
       "evalue": "'list' object has no attribute 'ndim'",
       "output_type": "pyerr",
       "traceback": [
        "\u001b[1;31m---------------------------------------------------------------------------\u001b[0m\n\u001b[1;31mAttributeError\u001b[0m                            Traceback (most recent call last)",
        "\u001b[1;32m<ipython-input-52-0951223d8e1e>\u001b[0m in \u001b[0;36m<module>\u001b[1;34m()\u001b[0m\n\u001b[1;32m----> 1\u001b[1;33m \u001b[1;32mprint\u001b[0m \u001b[0mvorticity\u001b[0m\u001b[1;33m.\u001b[0m\u001b[0mndim\u001b[0m\u001b[1;33m\u001b[0m\u001b[0m\n\u001b[0m",
        "\u001b[1;31mAttributeError\u001b[0m: 'list' object has no attribute 'ndim'"
       ]
      }
     ],
     "prompt_number": 52
    },
    {
     "cell_type": "code",
     "collapsed": false,
     "input": [
      "fig = plt.figure(figsize=(11,7), dpi=100)\n",
      "plt.contourf(X,Y,vorticity,alpha=0.5)    ###plotting the pressure field as a contour\n",
      "plt.colorbar()\n",
      "plt.contour(X,Y,vorticity)               ###plotting the pressure field outlines\n",
      "#plt.quiver(X[::2,::2],Y[::2,::2],u[::2,::2],v[::2,::2], units='width') ##plotting velocity\n",
      "plt.xlabel('X')\n",
      "plt.ylabel('Y')"
     ],
     "language": "python",
     "metadata": {},
     "outputs": [
      {
       "ename": "TypeError",
       "evalue": "Input z must be a 2D array.",
       "output_type": "pyerr",
       "traceback": [
        "\u001b[1;31m---------------------------------------------------------------------------\u001b[0m\n\u001b[1;31mTypeError\u001b[0m                                 Traceback (most recent call last)",
        "\u001b[1;32m<ipython-input-61-426cb8c7d3c8>\u001b[0m in \u001b[0;36m<module>\u001b[1;34m()\u001b[0m\n\u001b[0;32m      1\u001b[0m \u001b[0mfig\u001b[0m \u001b[1;33m=\u001b[0m \u001b[0mplt\u001b[0m\u001b[1;33m.\u001b[0m\u001b[0mfigure\u001b[0m\u001b[1;33m(\u001b[0m\u001b[0mfigsize\u001b[0m\u001b[1;33m=\u001b[0m\u001b[1;33m(\u001b[0m\u001b[1;36m11\u001b[0m\u001b[1;33m,\u001b[0m\u001b[1;36m7\u001b[0m\u001b[1;33m)\u001b[0m\u001b[1;33m,\u001b[0m \u001b[0mdpi\u001b[0m\u001b[1;33m=\u001b[0m\u001b[1;36m100\u001b[0m\u001b[1;33m)\u001b[0m\u001b[1;33m\u001b[0m\u001b[0m\n\u001b[1;32m----> 2\u001b[1;33m \u001b[0mplt\u001b[0m\u001b[1;33m.\u001b[0m\u001b[0mcontourf\u001b[0m\u001b[1;33m(\u001b[0m\u001b[0mX\u001b[0m\u001b[1;33m,\u001b[0m\u001b[0mY\u001b[0m\u001b[1;33m,\u001b[0m\u001b[0mvorticity\u001b[0m\u001b[1;33m,\u001b[0m\u001b[0malpha\u001b[0m\u001b[1;33m=\u001b[0m\u001b[1;36m0.5\u001b[0m\u001b[1;33m)\u001b[0m    \u001b[1;31m###plotting the pressure field as a contour\u001b[0m\u001b[1;33m\u001b[0m\u001b[0m\n\u001b[0m\u001b[0;32m      3\u001b[0m \u001b[0mplt\u001b[0m\u001b[1;33m.\u001b[0m\u001b[0mcolorbar\u001b[0m\u001b[1;33m(\u001b[0m\u001b[1;33m)\u001b[0m\u001b[1;33m\u001b[0m\u001b[0m\n\u001b[0;32m      4\u001b[0m \u001b[0mplt\u001b[0m\u001b[1;33m.\u001b[0m\u001b[0mcontour\u001b[0m\u001b[1;33m(\u001b[0m\u001b[0mX\u001b[0m\u001b[1;33m,\u001b[0m\u001b[0mY\u001b[0m\u001b[1;33m,\u001b[0m\u001b[0mvorticity\u001b[0m\u001b[1;33m)\u001b[0m               \u001b[1;31m###plotting the pressure field outlines\u001b[0m\u001b[1;33m\u001b[0m\u001b[0m\n\u001b[0;32m      5\u001b[0m \u001b[1;31m#plt.quiver(X[::2,::2],Y[::2,::2],u[::2,::2],v[::2,::2], units='width') ##plotting velocity\u001b[0m\u001b[1;33m\u001b[0m\u001b[1;33m\u001b[0m\u001b[0m\n",
        "\u001b[1;32m/home/cj/Enthought/Canopy_64bit/User/lib/python2.7/site-packages/matplotlib/pyplot.pyc\u001b[0m in \u001b[0;36mcontourf\u001b[1;34m(*args, **kwargs)\u001b[0m\n\u001b[0;32m   2716\u001b[0m         \u001b[0max\u001b[0m\u001b[1;33m.\u001b[0m\u001b[0mhold\u001b[0m\u001b[1;33m(\u001b[0m\u001b[0mhold\u001b[0m\u001b[1;33m)\u001b[0m\u001b[1;33m\u001b[0m\u001b[0m\n\u001b[0;32m   2717\u001b[0m     \u001b[1;32mtry\u001b[0m\u001b[1;33m:\u001b[0m\u001b[1;33m\u001b[0m\u001b[0m\n\u001b[1;32m-> 2718\u001b[1;33m         \u001b[0mret\u001b[0m \u001b[1;33m=\u001b[0m \u001b[0max\u001b[0m\u001b[1;33m.\u001b[0m\u001b[0mcontourf\u001b[0m\u001b[1;33m(\u001b[0m\u001b[1;33m*\u001b[0m\u001b[0margs\u001b[0m\u001b[1;33m,\u001b[0m \u001b[1;33m**\u001b[0m\u001b[0mkwargs\u001b[0m\u001b[1;33m)\u001b[0m\u001b[1;33m\u001b[0m\u001b[0m\n\u001b[0m\u001b[0;32m   2719\u001b[0m         \u001b[0mdraw_if_interactive\u001b[0m\u001b[1;33m(\u001b[0m\u001b[1;33m)\u001b[0m\u001b[1;33m\u001b[0m\u001b[0m\n\u001b[0;32m   2720\u001b[0m     \u001b[1;32mfinally\u001b[0m\u001b[1;33m:\u001b[0m\u001b[1;33m\u001b[0m\u001b[0m\n",
        "\u001b[1;32m/home/cj/Enthought/Canopy_64bit/User/lib/python2.7/site-packages/matplotlib/axes/_axes.pyc\u001b[0m in \u001b[0;36mcontourf\u001b[1;34m(self, *args, **kwargs)\u001b[0m\n\u001b[0;32m   5339\u001b[0m             \u001b[0mself\u001b[0m\u001b[1;33m.\u001b[0m\u001b[0mcla\u001b[0m\u001b[1;33m(\u001b[0m\u001b[1;33m)\u001b[0m\u001b[1;33m\u001b[0m\u001b[0m\n\u001b[0;32m   5340\u001b[0m         \u001b[0mkwargs\u001b[0m\u001b[1;33m[\u001b[0m\u001b[1;34m'filled'\u001b[0m\u001b[1;33m]\u001b[0m \u001b[1;33m=\u001b[0m \u001b[0mTrue\u001b[0m\u001b[1;33m\u001b[0m\u001b[0m\n\u001b[1;32m-> 5341\u001b[1;33m         \u001b[1;32mreturn\u001b[0m \u001b[0mmcontour\u001b[0m\u001b[1;33m.\u001b[0m\u001b[0mQuadContourSet\u001b[0m\u001b[1;33m(\u001b[0m\u001b[0mself\u001b[0m\u001b[1;33m,\u001b[0m \u001b[1;33m*\u001b[0m\u001b[0margs\u001b[0m\u001b[1;33m,\u001b[0m \u001b[1;33m**\u001b[0m\u001b[0mkwargs\u001b[0m\u001b[1;33m)\u001b[0m\u001b[1;33m\u001b[0m\u001b[0m\n\u001b[0m\u001b[0;32m   5342\u001b[0m     \u001b[0mcontourf\u001b[0m\u001b[1;33m.\u001b[0m\u001b[0m__doc__\u001b[0m \u001b[1;33m=\u001b[0m \u001b[0mmcontour\u001b[0m\u001b[1;33m.\u001b[0m\u001b[0mQuadContourSet\u001b[0m\u001b[1;33m.\u001b[0m\u001b[0mcontour_doc\u001b[0m\u001b[1;33m\u001b[0m\u001b[0m\n\u001b[0;32m   5343\u001b[0m \u001b[1;33m\u001b[0m\u001b[0m\n",
        "\u001b[1;32m/home/cj/Enthought/Canopy_64bit/User/lib/python2.7/site-packages/matplotlib/contour.pyc\u001b[0m in \u001b[0;36m__init__\u001b[1;34m(self, ax, *args, **kwargs)\u001b[0m\n\u001b[0;32m   1427\u001b[0m         \u001b[0mare\u001b[0m \u001b[0mdescribed\u001b[0m \u001b[1;32min\u001b[0m \u001b[0mQuadContourSet\u001b[0m\u001b[1;33m.\u001b[0m\u001b[0mcontour_doc\u001b[0m\u001b[1;33m.\u001b[0m\u001b[1;33m\u001b[0m\u001b[0m\n\u001b[0;32m   1428\u001b[0m         \"\"\"\n\u001b[1;32m-> 1429\u001b[1;33m         \u001b[0mContourSet\u001b[0m\u001b[1;33m.\u001b[0m\u001b[0m__init__\u001b[0m\u001b[1;33m(\u001b[0m\u001b[0mself\u001b[0m\u001b[1;33m,\u001b[0m \u001b[0max\u001b[0m\u001b[1;33m,\u001b[0m \u001b[1;33m*\u001b[0m\u001b[0margs\u001b[0m\u001b[1;33m,\u001b[0m \u001b[1;33m**\u001b[0m\u001b[0mkwargs\u001b[0m\u001b[1;33m)\u001b[0m\u001b[1;33m\u001b[0m\u001b[0m\n\u001b[0m\u001b[0;32m   1430\u001b[0m \u001b[1;33m\u001b[0m\u001b[0m\n\u001b[0;32m   1431\u001b[0m     \u001b[1;32mdef\u001b[0m \u001b[0m_process_args\u001b[0m\u001b[1;33m(\u001b[0m\u001b[0mself\u001b[0m\u001b[1;33m,\u001b[0m \u001b[1;33m*\u001b[0m\u001b[0margs\u001b[0m\u001b[1;33m,\u001b[0m \u001b[1;33m**\u001b[0m\u001b[0mkwargs\u001b[0m\u001b[1;33m)\u001b[0m\u001b[1;33m:\u001b[0m\u001b[1;33m\u001b[0m\u001b[0m\n",
        "\u001b[1;32m/home/cj/Enthought/Canopy_64bit/User/lib/python2.7/site-packages/matplotlib/contour.pyc\u001b[0m in \u001b[0;36m__init__\u001b[1;34m(self, ax, *args, **kwargs)\u001b[0m\n\u001b[0;32m    873\u001b[0m         \u001b[0mself\u001b[0m\u001b[1;33m.\u001b[0m\u001b[0m_transform\u001b[0m \u001b[1;33m=\u001b[0m \u001b[0mkwargs\u001b[0m\u001b[1;33m.\u001b[0m\u001b[0mget\u001b[0m\u001b[1;33m(\u001b[0m\u001b[1;34m'transform'\u001b[0m\u001b[1;33m,\u001b[0m \u001b[0mNone\u001b[0m\u001b[1;33m)\u001b[0m\u001b[1;33m\u001b[0m\u001b[0m\n\u001b[0;32m    874\u001b[0m \u001b[1;33m\u001b[0m\u001b[0m\n\u001b[1;32m--> 875\u001b[1;33m         \u001b[0mself\u001b[0m\u001b[1;33m.\u001b[0m\u001b[0m_process_args\u001b[0m\u001b[1;33m(\u001b[0m\u001b[1;33m*\u001b[0m\u001b[0margs\u001b[0m\u001b[1;33m,\u001b[0m \u001b[1;33m**\u001b[0m\u001b[0mkwargs\u001b[0m\u001b[1;33m)\u001b[0m\u001b[1;33m\u001b[0m\u001b[0m\n\u001b[0m\u001b[0;32m    876\u001b[0m         \u001b[0mself\u001b[0m\u001b[1;33m.\u001b[0m\u001b[0m_process_levels\u001b[0m\u001b[1;33m(\u001b[0m\u001b[1;33m)\u001b[0m\u001b[1;33m\u001b[0m\u001b[0m\n\u001b[0;32m    877\u001b[0m \u001b[1;33m\u001b[0m\u001b[0m\n",
        "\u001b[1;32m/home/cj/Enthought/Canopy_64bit/User/lib/python2.7/site-packages/matplotlib/contour.pyc\u001b[0m in \u001b[0;36m_process_args\u001b[1;34m(self, *args, **kwargs)\u001b[0m\n\u001b[0;32m   1440\u001b[0m             \u001b[0mself\u001b[0m\u001b[1;33m.\u001b[0m\u001b[0mzmax\u001b[0m \u001b[1;33m=\u001b[0m \u001b[0margs\u001b[0m\u001b[1;33m[\u001b[0m\u001b[1;36m0\u001b[0m\u001b[1;33m]\u001b[0m\u001b[1;33m.\u001b[0m\u001b[0mzmax\u001b[0m\u001b[1;33m\u001b[0m\u001b[0m\n\u001b[0;32m   1441\u001b[0m         \u001b[1;32melse\u001b[0m\u001b[1;33m:\u001b[0m\u001b[1;33m\u001b[0m\u001b[0m\n\u001b[1;32m-> 1442\u001b[1;33m             \u001b[0mx\u001b[0m\u001b[1;33m,\u001b[0m \u001b[0my\u001b[0m\u001b[1;33m,\u001b[0m \u001b[0mz\u001b[0m \u001b[1;33m=\u001b[0m \u001b[0mself\u001b[0m\u001b[1;33m.\u001b[0m\u001b[0m_contour_args\u001b[0m\u001b[1;33m(\u001b[0m\u001b[0margs\u001b[0m\u001b[1;33m,\u001b[0m \u001b[0mkwargs\u001b[0m\u001b[1;33m)\u001b[0m\u001b[1;33m\u001b[0m\u001b[0m\n\u001b[0m\u001b[0;32m   1443\u001b[0m \u001b[1;33m\u001b[0m\u001b[0m\n\u001b[0;32m   1444\u001b[0m             \u001b[0m_mask\u001b[0m \u001b[1;33m=\u001b[0m \u001b[0mma\u001b[0m\u001b[1;33m.\u001b[0m\u001b[0mgetmask\u001b[0m\u001b[1;33m(\u001b[0m\u001b[0mz\u001b[0m\u001b[1;33m)\u001b[0m\u001b[1;33m\u001b[0m\u001b[0m\n",
        "\u001b[1;32m/home/cj/Enthought/Canopy_64bit/User/lib/python2.7/site-packages/matplotlib/contour.pyc\u001b[0m in \u001b[0;36m_contour_args\u001b[1;34m(self, args, kwargs)\u001b[0m\n\u001b[0;32m   1504\u001b[0m             \u001b[0margs\u001b[0m \u001b[1;33m=\u001b[0m \u001b[0margs\u001b[0m\u001b[1;33m[\u001b[0m\u001b[1;36m1\u001b[0m\u001b[1;33m:\u001b[0m\u001b[1;33m]\u001b[0m\u001b[1;33m\u001b[0m\u001b[0m\n\u001b[0;32m   1505\u001b[0m         \u001b[1;32melif\u001b[0m \u001b[0mNargs\u001b[0m \u001b[1;33m<=\u001b[0m \u001b[1;36m4\u001b[0m\u001b[1;33m:\u001b[0m\u001b[1;33m\u001b[0m\u001b[0m\n\u001b[1;32m-> 1506\u001b[1;33m             \u001b[0mx\u001b[0m\u001b[1;33m,\u001b[0m \u001b[0my\u001b[0m\u001b[1;33m,\u001b[0m \u001b[0mz\u001b[0m \u001b[1;33m=\u001b[0m \u001b[0mself\u001b[0m\u001b[1;33m.\u001b[0m\u001b[0m_check_xyz\u001b[0m\u001b[1;33m(\u001b[0m\u001b[0margs\u001b[0m\u001b[1;33m[\u001b[0m\u001b[1;33m:\u001b[0m\u001b[1;36m3\u001b[0m\u001b[1;33m]\u001b[0m\u001b[1;33m,\u001b[0m \u001b[0mkwargs\u001b[0m\u001b[1;33m)\u001b[0m\u001b[1;33m\u001b[0m\u001b[0m\n\u001b[0m\u001b[0;32m   1507\u001b[0m             \u001b[0margs\u001b[0m \u001b[1;33m=\u001b[0m \u001b[0margs\u001b[0m\u001b[1;33m[\u001b[0m\u001b[1;36m3\u001b[0m\u001b[1;33m:\u001b[0m\u001b[1;33m]\u001b[0m\u001b[1;33m\u001b[0m\u001b[0m\n\u001b[0;32m   1508\u001b[0m         \u001b[1;32melse\u001b[0m\u001b[1;33m:\u001b[0m\u001b[1;33m\u001b[0m\u001b[0m\n",
        "\u001b[1;32m/home/cj/Enthought/Canopy_64bit/User/lib/python2.7/site-packages/matplotlib/contour.pyc\u001b[0m in \u001b[0;36m_check_xyz\u001b[1;34m(self, args, kwargs)\u001b[0m\n\u001b[0;32m   1538\u001b[0m \u001b[1;33m\u001b[0m\u001b[0m\n\u001b[0;32m   1539\u001b[0m         \u001b[1;32mif\u001b[0m \u001b[0mz\u001b[0m\u001b[1;33m.\u001b[0m\u001b[0mndim\u001b[0m \u001b[1;33m!=\u001b[0m \u001b[1;36m2\u001b[0m\u001b[1;33m:\u001b[0m\u001b[1;33m\u001b[0m\u001b[0m\n\u001b[1;32m-> 1540\u001b[1;33m             \u001b[1;32mraise\u001b[0m \u001b[0mTypeError\u001b[0m\u001b[1;33m(\u001b[0m\u001b[1;34m\"Input z must be a 2D array.\"\u001b[0m\u001b[1;33m)\u001b[0m\u001b[1;33m\u001b[0m\u001b[0m\n\u001b[0m\u001b[0;32m   1541\u001b[0m         \u001b[1;32melse\u001b[0m\u001b[1;33m:\u001b[0m\u001b[1;33m\u001b[0m\u001b[0m\n\u001b[0;32m   1542\u001b[0m             \u001b[0mNy\u001b[0m\u001b[1;33m,\u001b[0m \u001b[0mNx\u001b[0m \u001b[1;33m=\u001b[0m \u001b[0mz\u001b[0m\u001b[1;33m.\u001b[0m\u001b[0mshape\u001b[0m\u001b[1;33m\u001b[0m\u001b[0m\n",
        "\u001b[1;31mTypeError\u001b[0m: Input z must be a 2D array."
       ]
      },
      {
       "metadata": {},
       "output_type": "display_data",
       "png": "[encoded data removed]",
       "text": [
        "<matplotlib.figure.Figure at 0x5095190>"
       ]
      }
     ],
     "prompt_number": 61
    },
    {
     "cell_type": "code",
     "collapsed": false,
     "input": [
      "# First collect data from files\n",
      "#n = collect(\"n\")   #  This is a routine to collect data\n",
      "#Nx = n.shape[1]\n",
      "#Nz = n.shape[2]\n",
      "#Ny = n.shape[3]\n",
      "#Nt = n.shape[0]\n",
      "\n",
      "fig = plt.figure()\n",
      "ax = plt.axes(xlim=(0, 200), ylim=(0, 100))\n",
      "Y,X = np.meshgrid(y,x)\n",
      "cont, = ax.contourf(x, y, 500)\n",
      "\n",
      "# initialisation function\n",
      "def init():\n",
      "    cont.set_data([],[])\n",
      "    return cont,\n",
      "\n",
      "# animation function\n",
      "def animate(i): \n",
      "    x = linspace(0, 200, Nx)\n",
      "    y = linspace(0, 100, Ny)\n",
      "    x,y = meshgrid(x,y)\n",
      "    cont.set_data(x,y)\n",
      "    return cont, \n",
      "\n",
      "anim = animation.FuncAnimation(fig, animate, init_func=init,\n",
      "                           frames=200, interval=20, blit=True)\n",
      "\n",
      "plt.show()"
     ],
     "language": "python",
     "metadata": {},
     "outputs": []
    },
    {
     "cell_type": "heading",
     "level": 2,
     "metadata": {},
     "source": [
      "Result Confirmation:"
     ]
    },
    {
     "cell_type": "markdown",
     "metadata": {},
     "source": [
      "Now we need to check are results to make sure they are physical. Thankfully J. Kim and P. Moin have done extensive studys on cavity flow. Below is an image from their 1984 paper showing the velocity vectors in a cavity. As can be seen we are capturing the correct physics although to a lessor effect due to the lower Reynolds Number we are using.\n",
      "<img src=\"Supporting_Files/Kim_Moin_velocity.png\"height '63'width '63'>"
     ]
    },
    {
     "cell_type": "markdown",
     "metadata": {},
     "source": [
      "We can also look at the streamfunctions of the flow curtesy of Ercan Erturk. His data matches our data in general but differs once again because of Reynolds Number differences.\n",
      "<img src='Supporting_Files/Ertuk_Streamfunctions.png' height '42' width'42'>"
     ]
    },
    {
     "cell_type": "markdown",
     "metadata": {},
     "source": [
      "The begging of an oscillation of the pressure field is also starting to form. This can be seen in the curve in the pressure field. If the simulation were continued it would continue to circulate as seen in this [video](https://www.youtube.com/watch?v=wDxRnsvBqT4)"
     ]
    },
    {
     "cell_type": "heading",
     "level": 2,
     "metadata": {},
     "source": [
      "Acoustic Solver:"
     ]
    },
    {
     "cell_type": "heading",
     "level": 3,
     "metadata": {},
     "source": [
      "Expected Physics:"
     ]
    },
    {
     "cell_type": "markdown",
     "metadata": {},
     "source": [
      "The acoustic effect that were are modeling is called a Helmholtz resonator. This is a widely studied phenomenon as it comes up a lot in the real world--including our sun roof problem. The vortices that cause this acoustic effect can be found in the image below courtesy of [exa](http://www.exa.com/sunroof--window-buffeting.html)\n",
      "\n",
      "<img src='Supporting_Files/buffeting_phenomena.png'height '42'width '42'>"
     ]
    },
    {
     "cell_type": "markdown",
     "metadata": {},
     "source": [
      "The general physics of the flow can be seen here courtesy of W. De Roeck et. al.\n",
      "\n",
      "<img src='Supporting_Files/Acoustic_schematic.png'height '42'width '42'>"
     ]
    },
    {
     "cell_type": "markdown",
     "metadata": {},
     "source": [
      "There are also many animations available to demonstrate the physics of the flow. [University of New South Wales](http://newt.phys.unsw.edu.au/jw/Helmholtz.html) has a nice webpage about Helmholtz Resonators including an animation for a simplified problem. Wikibooks also has a nice gif of the flow over a sunroof.\n",
      "\n",
      "<img src='Supporting_Files/Buffeting_car.gif'height '48'width '48'>"
     ]
    },
    {
     "cell_type": "heading",
     "level": 3,
     "metadata": {},
     "source": [
      "2D Acoustic Equation Derivation & Discritization"
     ]
    },
    {
     "cell_type": "markdown",
     "metadata": {},
     "source": [
      "The 2D Acoustic Wave Equation is defined as:\n",
      "\n",
      "$$\\frac{\\partial^2 P}{\\partial x^2} + \\frac{\\partial^2 P}{\\partial y^2} - \\frac{1}{c^2}\\frac{\\partial^2 P}{\\partial t^2} = 0$$\n",
      "\n",
      "With $c$ being the speed of sound. First we should determine what type of discritization scheme we will be using will have because we have a term we have not dealt with before-an equation sensitive to the second derivative of time."
     ]
    },
    {
     "cell_type": "markdown",
     "metadata": {},
     "source": [
      "$$\\frac{P_{i+1,j}^n - 2P_{i,j} + P_{i-1,j}^n}{\\Delta x^2} + \\frac{P_{i,j+1}^n - 2P_{i,j} + P_{i,j-1}^n}{\\Delta y^2} - \\frac{1}{c^2}\\frac{P_{i,j}^{n+1} - 2P_{i,j}^n + P_{i,j}^{n-1}}{\\Delta t^2} = 0$$\n",
      "\n",
      "$$P_{i,j}^{n+1} = \\frac{c^2\\Delta t^2}{\\Delta x^2}\\left(P_{i+1,j}^n - 2P_{i,j}^n + P_{i-1,j}^n\\right) + \\frac{c^2\\Delta t^2}{\\Delta y^2}\\left(P_{i,j+1}^n - 2P_{i,j}^n + P_{i,j-1}^n\\right) + 2P_{i,j}^n - P_{i,j}^{n-1}$$\n",
      "\n",
      "Now we have a new problem, we have a $n-1$ time step that means we need a special way to start off the solution."
     ]
    },
    {
     "cell_type": "markdown",
     "metadata": {},
     "source": [
      "$P_{i,j}^{n-1}$ can be found by performing a 3 term taylor series expansion as demonstrated by classmate Matt Bornemeier in his final project using the work of John Strikwerda.\n",
      "\n",
      "$$P_{i,j}^n = P_{i,j} + \\Delta t \\frac{\\partial P}{\\partial t} + \\frac{1}{2}\\Delta t^2 \\frac{\\partial^2 P}{\\partial t^2} + O\\left(\\Delta t^3 \\right)$$\n",
      "\n",
      "We can rearrange our 2D acoustic equation to yield:\n",
      "\n",
      "$$\\frac{\\partial^2 P}{\\partial t^2} = c^2 \\frac{\\partial^2 P}{\\partial x} + c^2 \\frac{\\partial^2 P}{\\partial y}$$\n",
      "\n",
      "Now we can use this relation to start off the solution at the first time step."
     ]
    },
    {
     "cell_type": "code",
     "collapsed": false,
     "input": [
      "P_a = np.zeros((ny,nx)) #initiate 2D array for acoustics"
     ],
     "language": "python",
     "metadata": {},
     "outputs": []
    },
    {
     "cell_type": "code",
     "collapsed": false,
     "input": [
      "def Acoustics2D(P_a, c, dt, dx, dy, P):\n",
      "    \"\"\"Computes the fluid flow over a cavity\n",
      "    \n",
      "    Parameters:\n",
      "    ------          \n",
      "    P_a:  array of float\n",
      "          empty array for acoustic pressure waves\n",
      "          \n",
      "          \n",
      "    c:    float\n",
      "          speed of sound\n",
      "          \n",
      "    dt:   float\n",
      "          time step size\n",
      "    \n",
      "    dx:   float\n",
      "          grid step size\n",
      "    \n",
      "    dy:   float\n",
      "          grid step size\n",
      "          \n",
      "    P:    array of float\n",
      "          Results of Poisson equation \n",
      "\n",
      "          \n",
      "    Returns:\n",
      "    -------          \n",
      "    P_a:  array of float\n",
      "          Acoustic distribution for cavity flow\n",
      "    \"\"\"\n",
      "    P_temp = np.zeros((ny,nx))\n",
      "    P_firststep = np.zeros((ny,nx))\n",
      "    P_an = P_a.copy()\n",
      "    \n",
      "    P_firststep[1:-1,1:-1] = P_firststep[1:-1,1:-1] + (dt*P_IC/dt) + (0.5*(dt**2)*(c**2))*\\\n",
      "        ((P_an[2:,1:-1] - 2*P_an[1:-1,1:-1] + P_an[0:-2,1:-1])/dx**2) +\\\n",
      "        (0.5*(dt**2)*(c**2))*((P_an[1:-1,2:] -2*P_an[1:-1,1:-1] + P_an[1:-1,0:-2])/dy**2)\n",
      "    P_an[0,:] = \n",
      "    P_an[1,:] = P_firststep.copy()\n",
      "    P_temp = P_firststep.copy()\n",
      "    \n",
      "    for n in range(1,nt-1):\n",
      "        P_an[] =\n",
      "                \n",
      "              #  P[j,i] = ((c**2*dt**2)/(dx**2)) * (P_an[j,i+1] -2*P_an[j,i] + P_an[j,i-1])+\\\n",
      "              #      ((c**2*dt**2)/dy**2) * (P_an[j+1,i] -2*P_an[j,i] + P_an[j-1,i])+\\\n",
      "              #      2*P_an[j,i] - P[j,i]\n",
      "    #last term is supposed to be last time step\n",
      "    \n",
      "    ####Matts code\n",
      "        #Initialize data storage arrays\n",
      "    w_dummy = numpy.zeros(nx)\n",
      "    w_firststep = numpy.zeros(nx)\n",
      "    w_firststep = w_i\n",
      "    \n",
      "    #Generate first step of the simulation\n",
      "    w_firststep[2:-2] = w_i[2:-2] + dt*w_ii[2:-2] + (.5 * -(b**2.)*(dt**2.))*(w_i[4:] - 4.*w_i[3:-1] + 6.*w_i[2:-2] - 4.*w_i[1:-3] + w_i[:-4])\n",
      "    w[0,:] = w_i.copy()\n",
      "    w[1,:]= w_firststep.copy()\n",
      "    w_dummy = w_firststep.copy()\n",
      "        \n",
      "    #Run simulation for nt time steps over nx points of the beam.\n",
      "    for i in range(int(nt-2)):\n",
      "        w[i+2,2:-2] = w_dummy[2:-2]*(2. - (6.*b**2.*dt**2.)/(dx**4)) - (((b**2)*(dt**2))/(dx**4))*(w_dummy[4:] - 4.*(w_dummy[3:-1] + w_dummy[1:-3]) + w_dummy[:-4]) - w_i[2:-2]\n",
      "        \n",
      "        w_i = w_dummy.copy()\n",
      "        w_dummy = w[i+2,:].copy()\n",
      "        w[i+2,0] = 0\n",
      "        w[i+2,1] = 0\n",
      "        w[i+2,-1] = 0\n",
      "        w[i+2,-2] = 0  \n",
      "        \n",
      "    return P_a"
     ],
     "language": "python",
     "metadata": {},
     "outputs": []
    },
    {
     "cell_type": "code",
     "collapsed": false,
     "input": [
      "u, v, P, bn = Burger2D(u, v, P, dt, dx, dy, rho, nu, nt)\n",
      "P_a = Acoustics2D(P_a, c, dt, dx, dy, P)\n",
      "fig = plt.figure(figsize=(11,7), dpi=100)\n",
      "plt.contourf(X,Y,P_a,alpha=0.5)    ###plottong the pressure field as a contour\n",
      "plt.colorbar()\n",
      "plt.contour(X,Y,P)               ###plotting the pressure field outlines\n",
      "plt.quiver(X[::2,::2],Y[::2,::2],u[::2,::2],v[::2,::2]) ##plotting velocity\n",
      "plt.xlabel('X')\n",
      "plt.ylabel('Y')"
     ],
     "language": "python",
     "metadata": {},
     "outputs": []
    },
    {
     "cell_type": "heading",
     "level": 2,
     "metadata": {},
     "source": [
      "Result Confirmation:"
     ]
    },
    {
     "cell_type": "markdown",
     "metadata": {},
     "source": [
      "Our simulation matches the physics introduced earlier and thus we now have a 2D Navier Stokes and Acoustic Solver."
     ]
    },
    {
     "cell_type": "heading",
     "level": 2,
     "metadata": {},
     "source": [
      "References:"
     ]
    },
    {
     "cell_type": "markdown",
     "metadata": {},
     "source": [
      "1) Anderson, John D. Computational Fluid Dynamics: The Basics with Applications. New York: McGraw-Hill, 1995.\n",
      "\n",
      "2) CFD Python by Lorena Barba\n",
      "\n",
      "3) Erturk, Ercan. \"Discussions on Driven Cavity Flow.\" International Journal for Numerical Methods in Fluids 60.3 (2009): 275-94.\n",
      "\n",
      "4) Kim, J., and P. Moin. \"Application of a Fractional-step Method to Incompressible Navier-Stokes Equations.\" Journal of Computational Physics 59.2 (1984): 308-23.\n",
      "\n",
      "5) Lions, and Tigers, and 4th Order PDE's! Oh, My! by Matt Bornemeier\n",
      "\n",
      "6) Panton, Ronald L. Incompressible Flow. New York: Wiley, 1984.\n",
      "\n",
      "7) Roeck, W. D., W. Desmet, M. Baelmans, and P. Sas. \"On the Prediction of Near-field Cavity Flow Noise Using Different CAA Techniques.\" (2004).\n",
      "\n",
      "8) Strikwerda, John C. \"Finite Difference Schemes and Partial Differential Equations\", Wadsworth & Brooks/Cole Advanced Books & Software, Belmont, CA, 1989"
     ]
    },
    {
     "cell_type": "code",
     "collapsed": false,
     "input": [
      "from IPython.core.display import HTML\n",
      "css_file = 'Supporting_Files/numericalmoocstyle.css'\n",
      "HTML(open(css_file, \"r\").read())"
     ],
     "language": "python",
     "metadata": {},
     "outputs": [
      {
       "html": [
        "<link href='http://fonts.googleapis.com/css?family=Alegreya+Sans:100,300,400,500,700,800,900,100italic,300italic,400italic,500italic,700italic,800italic,900italic' rel='stylesheet' type='text/css'>\n",
        "<link href='http://fonts.googleapis.com/css?family=Arvo:400,700,400italic' rel='stylesheet' type='text/css'>\n",
        "<link href='http://fonts.googleapis.com/css?family=PT+Mono' rel='stylesheet' type='text/css'>\n",
        "<link href='http://fonts.googleapis.com/css?family=Shadows+Into+Light' rel='stylesheet' type='text/css'>\n",
        "<link href='http://fonts.googleapis.com/css?family=Nixie+One' rel='stylesheet' type='text/css'>\n",
        "<style>\n",
        "\n",
        "@font-face {\n",
        "    font-family: \"Computer Modern\";\n",
        "    src: url('http://mirrors.ctan.org/fonts/cm-unicode/fonts/otf/cmunss.otf');\n",
        "}\n",
        "\n",
        "#notebook_panel { /* main background */\n",
        "    background: rgb(245,245,245);\n",
        "}\n",
        "\n",
        "div.cell { /* set cell width */\n",
        "    width: 750px;\n",
        "}\n",
        "\n",
        "div #notebook { /* centre the content */\n",
        "    background: #fff; /* white background for content */\n",
        "    width: 1000px;\n",
        "    margin: auto;\n",
        "    padding-left: 0em;\n",
        "}\n",
        "\n",
        "#notebook li { /* More space between bullet points */\n",
        "margin-top:0.8em;\n",
        "}\n",
        "\n",
        "/* draw border around running cells */\n",
        "div.cell.border-box-sizing.code_cell.running { \n",
        "    border: 1px solid #111;\n",
        "}\n",
        "\n",
        "/* Put a solid color box around each cell and its output, visually linking them*/\n",
        "div.cell.code_cell {\n",
        "    background-color: rgb(256,256,256); \n",
        "    border-radius: 0px; \n",
        "    padding: 0.5em;\n",
        "    margin-left:1em;\n",
        "    margin-top: 1em;\n",
        "}\n",
        "\n",
        "div.text_cell_render{\n",
        "    font-family: 'Alegreya Sans' sans-serif;\n",
        "    line-height: 140%;\n",
        "    font-size: 125%;\n",
        "    font-weight: 400;\n",
        "    width:600px;\n",
        "    margin-left:auto;\n",
        "    margin-right:auto;\n",
        "}\n",
        "\n",
        "\n",
        "/* Formatting for header cells */\n",
        ".text_cell_render h1 {\n",
        "    font-family: 'Nixie One', serif;\n",
        "    font-style:regular;\n",
        "    font-weight: 400;    \n",
        "    font-size: 45pt;\n",
        "    line-height: 100%;\n",
        "    color: rgb(0,51,102);\n",
        "    margin-bottom: 0.5em;\n",
        "    margin-top: 0.5em;\n",
        "    display: block;\n",
        "}\t\n",
        ".text_cell_render h2 {\n",
        "    font-family: 'Nixie One', serif;\n",
        "    font-weight: 400;\n",
        "    font-size: 30pt;\n",
        "    line-height: 100%;\n",
        "    color: rgb(0,51,102);\n",
        "    margin-bottom: 0.1em;\n",
        "    margin-top: 0.3em;\n",
        "    display: block;\n",
        "}\t\n",
        "\n",
        ".text_cell_render h3 {\n",
        "    font-family: 'Nixie One', serif;\n",
        "    margin-top:16px;\n",
        "\tfont-size: 22pt;\n",
        "    font-weight: 600;\n",
        "    margin-bottom: 3px;\n",
        "    font-style: regular;\n",
        "    color: rgb(102,102,0);\n",
        "}\n",
        "\n",
        ".text_cell_render h4 {    /*Use this for captions*/\n",
        "    font-family: 'Nixie One', serif;\n",
        "    font-size: 14pt;\n",
        "    text-align: center;\n",
        "    margin-top: 0em;\n",
        "    margin-bottom: 2em;\n",
        "    font-style: regular;\n",
        "}\n",
        "\n",
        ".text_cell_render h5 {  /*Use this for small titles*/\n",
        "    font-family: 'Nixie One', sans-serif;\n",
        "    font-weight: 400;\n",
        "    font-size: 16pt;\n",
        "    color: rgb(163,0,0);\n",
        "    font-style: italic;\n",
        "    margin-bottom: .1em;\n",
        "    margin-top: 0.8em;\n",
        "    display: block;\n",
        "}\n",
        "\n",
        ".text_cell_render h6 { /*use this for copyright note*/\n",
        "    font-family: 'PT Mono', sans-serif;\n",
        "    font-weight: 300;\n",
        "    font-size: 9pt;\n",
        "    line-height: 100%;\n",
        "    color: grey;\n",
        "    margin-bottom: 1px;\n",
        "    margin-top: 1px;\n",
        "}\n",
        "\n",
        ".CodeMirror{\n",
        "        font-family: \"PT Mono\";\n",
        "        font-size: 90%;\n",
        "}\n",
        "\n",
        "</style>\n",
        "<script>\n",
        "    MathJax.Hub.Config({\n",
        "                        TeX: {\n",
        "                           extensions: [\"AMSmath.js\"],\n",
        "                           equationNumbers: { autoNumber: \"AMS\", useLabelIds: true}\n",
        "                           },\n",
        "                tex2jax: {\n",
        "                    inlineMath: [ ['$','$'], [\"\\\\(\",\"\\\\)\"] ],\n",
        "                    displayMath: [ ['$$','$$'], [\"\\\\[\",\"\\\\]\"] ]\n",
        "                },\n",
        "                displayAlign: 'center', // Change this to 'center' to center equations.\n",
        "                \"HTML-CSS\": {\n",
        "                    styles: {'.MathJax_Display': {\"margin\": 4}}\n",
        "                }\n",
        "        });\n",
        "</script>\n"
       ],
       "metadata": {},
       "output_type": "pyout",
       "prompt_number": 17,
       "text": [
        "<IPython.core.display.HTML at 0x45bc210>"
       ]
      }
     ],
     "prompt_number": 17
    },
    {
     "cell_type": "code",
     "collapsed": false,
     "input": [],
     "language": "python",
     "metadata": {},
     "outputs": []
    }
   ],
   "metadata": {}
  }
 ]
}