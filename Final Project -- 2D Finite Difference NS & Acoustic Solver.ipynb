{
 "metadata": {
  "name": "final project -- 2d finite difference ns & acoustic solver.ipynb",
  "signature": "sha256:3dcfe55236b0f0c7c44baf854ba5aa059ba621327cbb8b79433bdf6af9123931"
 },
 "nbformat": 3,
 "nbformat_minor": 0,
 "worksheets": [
  {
   "cells": [
    {
     "cell_type": "markdown",
     "metadata": {},
     "source": [
      "Content was created by Christopher Bell for Professor Lorena Barba's MAE 6286 Numerical Methods at The George Washington University, 2014. References are listed at the end of this document.\n",
      "\n",
      "Text and code provided under a Creative Commons Attribution license, CC-BY. (c) Christopher Bell, 2014."
     ]
    },
    {
     "cell_type": "heading",
     "level": 1,
     "metadata": {},
     "source": [
      "2D Finite Difference Navier-Stokes & Acoustic Solver"
     ]
    },
    {
     "cell_type": "heading",
     "level": 2,
     "metadata": {},
     "source": [
      "Problem Motivation"
     ]
    },
    {
     "cell_type": "markdown",
     "metadata": {},
     "source": [
      "I choose this problem for two reasons, my desire to write a Navier-Stokes solver and to advanced a project set forth in my undergraduate fluids class. The problem I will be investigating is the effect of buffetting over an open cavity. Most people are familair with this problem from opening their cars sunroof on the highway and hearing that annoying sound. The goal of this project is to model the physics of that system by using a Navier-Stokes solver with acoustics to model cavity flow. The code will begin with a derivation and implementation of the Navier-Stokes solver to get that working before adding the acoustics after."
     ]
    },
    {
     "cell_type": "heading",
     "level": 3,
     "metadata": {},
     "source": [
      "2D Navier-Stokes Derivation"
     ]
    },
    {
     "cell_type": "markdown",
     "metadata": {},
     "source": [
      "The Navier-Stokes equations and continuity are defined as:\n",
      "\n",
      "$$\\frac{\\partial{\\vec{v}}}{\\partial{t}}+\\left(\\vec{v} \\cdot \\nabla \\right)\\vec{v} = \\frac{-1}{\\rho} \\nabla P + \\nu \\nabla^2 \\vec{v}$$\n",
      "\n",
      "$$\\nabla \\cdot \\vec{v} = 0$$\n",
      "\n",
      "Due to the lagrangian and laplace operators this equation obviously represents a 3D system; however, for simplicity the z-direction will be ignored and the equations will be solved in 2D."
     ]
    },
    {
     "cell_type": "heading",
     "level": 4,
     "metadata": {},
     "source": [
      "2D Burgers Equation Derivation & Discretization"
     ]
    },
    {
     "cell_type": "markdown",
     "metadata": {},
     "source": [
      "The momentum equation above represents the Burgers Equation in 2D with an additional pressure term. That means we can use what we did in Module 2-04 in deriving the Burgers Equation in 1D but extend it to 2D. The only addition we need to make is a source term. The Cavity Flow will be set up as pressure driven flow and thus a source term, $F$, will be added to the $u$-direction (flow will be left to right the same as the x-direction and y will be perpendicular to the flow direction) equations to model this.\n",
      "\n",
      "Burgers Equation in 2D without our additional forcing term is:\n",
      "\n",
      "$$\\frac{\\partial u}{\\partial t}+u\\frac{\\partial u}{\\partial x}+v\\frac{\\partial u}{\\partial y}=\\nu\\left(\\frac{\\partial^2 u}{\\partial x^2}+\\frac{\\partial^2 u}{\\partial y^2}\\right)+F$$\n",
      "\n",
      "Incorporating the pressure term and rewritting the equations for each dimension yields:\n",
      "\n",
      "$$\\frac{\\partial u}{\\partial t}+u\\frac{\\partial u}{\\partial x}+v\\frac{\\partial u}{\\partial y}=-\\frac{1}{\\rho}\\frac{\\partial p}{\\partial x}+\\nu\\left(\\frac{\\partial^2 u}{\\partial x^2}+\\frac{\\partial^2 u}{\\partial y^2}\\right)+F$$\n",
      "\n",
      "$$\\frac{\\partial v}{\\partial t}+u\\frac{\\partial v}{\\partial x}+v\\frac{\\partial v}{\\partial y}=-\\frac{1}{\\rho}\\frac{\\partial p}{\\partial y}+\\nu\\left(\\frac{\\partial^2 v}{\\partial x^2}+\\frac{\\partial^2 v}{\\partial y^2}\\right)$$\n"
     ]
    },
    {
     "cell_type": "markdown",
     "metadata": {},
     "source": [
      "Once again as we did in Module 2-04 we will model the Burgers Equation using a forward time backward space scheme. This yields:\n",
      "\n",
      "$$\\frac{u_{i,j}^{n+1}-u_{i,j}^{n}}{\\Delta t}+u_{i,j}^{n}\\frac{u_{i,j}^{n}-u_{i-1,j}^{n}}{\\Delta x}+v_{i,j}^{n}\\frac{u_{i,j}^{n}-u_{i,j-1}^{n}}{\\Delta y}=-\\frac{1}{\\rho}\\frac{p_{i+1,j}^{n}-p_{i-1,j}^{n}}{2\\Delta x}+\\nu\\left(\\frac{u_{i+1,j}^{n}-2u_{i,j}^{n}+u_{i-1,j}^{n}}{\\Delta x^2}+\\frac{u_{i,j+1}^{n}-2u_{i,j}^{n}+u_{i,j-1}^{n}}{\\Delta y^2}\\right)+F_{i,j}$$\n",
      "\n",
      "$$\\frac{v_{i,j}^{n+1}-v_{i,j}^{n}}{\\Delta t}+u_{i,j}^{n}\\frac{v_{i,j}^{n}-v_{i-1,j}^{n}}{\\Delta x}+v_{i,j}^{n}\\frac{v_{i,j}^{n}-v_{i,j-1}^{n}}{\\Delta y}=-\\frac{1}{\\rho}\\frac{p_{i+1,j}^{n}-p_{i-1,j}^{n}}{2\\Delta x}+\\nu\\left(\\frac{v_{i+1,j}^{n}-2v_{i,j}^{n}+v_{i-1,j}^{n}}{\\Delta x^2}+\\frac{v_{i,j+1}^{n}-2v_{i,j}^{n}+v_{i,j-1}^{n}}{\\Delta y^2}\\right)$$"
     ]
    },
    {
     "cell_type": "markdown",
     "metadata": {},
     "source": [
      "Next we need to solve these equations for $u_{i,j}^{n+1}$ & $v_{i,j}^{n+1}$\n",
      "\n",
      "$$u_{i,j}^{n+1} = u_{i,j}^n-\\frac{1}{\\rho}\\frac{\\Delta t}{2\\Delta x}\\left(P_{i+1,j}-P_{i-1,j}\\right) + \\nu\\frac{\\Delta t}{\\Delta x^2}\\left(u_{i+1,j}^n-2u_{i,j}^n+u_{i-1,j}^n\\right) + \\nu\\frac{\\Delta t}{\\Delta y^2}\\left(u_{i,j+1}^n-2u_{i,j}^n+u_{i,j-1}^n\\right) - u_{i,j}^n\\frac{\\Delta t}{\\Delta x}\\left(u_{i,j}^n-u_{i-1,j}^n\\right) - v_{i,j}^n\\frac{\\Delta t}{\\Delta y}\\left(u_{i,j}^n-u_{i,j-1}^n\\right) + \\Delta t F_{i,j}$$\n",
      "\n",
      "$$v_{i,j}^{n+1} = v_{i,j}^n-\\frac{1}{\\rho}\\frac{\\Delta t}{2\\Delta y}\\left(P_{i+1,j}-P_{i-1,j}\\right) + \\nu\\frac{\\Delta t}{\\Delta x^2}\\left(v_{i+1,j}^n-2v_{i,j}^n+v_{i-1,j}^n\\right) + \\nu\\frac{\\Delta t}{\\Delta y^2}\\left(v_{i,j+1}^n-2v_{i,j}^n+v_{i,j-1}^n\\right) - u_{i,j}^n\\frac{\\Delta t}{\\Delta x}\\left(v_{i,j}^n-v_{i-1,j}^n\\right) - v_{i,j}^n\\frac{\\Delta t}{\\Delta y}\\left(v_{i,j}^n-v_{i,j-1}^n\\right)$$\n",
      "\n",
      "This equations can be simplified further if we assume that $\\Delta x$ $=$ $\\Delta y$, but that will not be done to keep the code as general as possible."
     ]
    },
    {
     "cell_type": "heading",
     "level": 4,
     "metadata": {},
     "source": [
      "2D Poisson Equation Derivation & Discretization"
     ]
    },
    {
     "cell_type": "markdown",
     "metadata": {},
     "source": [
      "As you probably noticed in the Burger's Equation above, we have a pressure term but no way to solve it. That's what the Poisson equation is for. Before we get there we need to solve a problem though. For incompressible flow the continutity equation provides no way to combine a pressure term and a velocity term. This is because unlike compressible flow continuity is only a function of velocity. In compressible flow density is able to change which when combined with an equation such as $PV=nRT$.\n",
      "\n",
      "The Laplace equation is defined as:\n",
      "\n",
      "$$\\frac{\\partial^2 P}{\\partial x^2} + \\frac{\\partial^2 P}{\\partial y^2} = 0$$\n",
      "\n",
      "To form the Poisson Equation a source term is added to the equation, thus providing our driving pressure for our pressure driven flow.\n",
      "\n",
      "$$\\frac{\\partial^2 P}{\\partial x^2} + \\frac{\\partial^2 P}{\\partial y^2} = b_{i,j}^n$$\n",
      "\n",
      "$b_{i,j}^n$ is a complicated calculation found by taking the divergence of the momentum equation and rewritten in the form we need. Due to the complexity here we will be using Professor Barba's result from her CFD class.\n",
      "\n",
      "$$b_{i,j}^n = -\\rho \\left(\\frac{\\partial u}{\\partial x}\\frac{\\partial u}{\\partial x} + 2 \\frac{\\partial u}{\\partial y}\\frac{\\partial v}{\\partial x} + \\frac{\\partial v}{\\partial y}\\frac{\\partial v}{\\partial y} \\right)$$\n",
      "\n",
      "Now we need to discritize this equation. First we need to think about the physics of the problem. The pressure field will act by spreading out through the computational domain like a diffusion problem which we talked in Module 2-03. Second we need to use our past experience discretizing with second derivatives. This yields:\n",
      "\n",
      "$$\\frac{P_{i+1,j}^n - 2P_{i,j} + P_{i-1,j}^n}{\\Delta x^2} + \\frac{P_{i,j+1}^n - 2P_{i,j} + P_{i,j-1}^n}{\\Delta y^2} = b_{i,j}^n$$\n",
      "\n",
      "And solving for the pressure at the current location $i,j$:\n",
      "\n",
      "$$P_{i,j}^n = \\frac{\\left(P_{i+1,j}^n + P_{i-1,j}^n\\right)\\Delta y^2 + \\left(P_{i,j+1}^n + P_{i,j-1}^n\\right)\\Delta x^2 - b_{i,j}^n \\Delta x^2 \\Delta y^2}{2\\left(\\Delta x^2 + \\Delta y^2 \\right)}$$\n",
      "\n"
     ]
    },
    {
     "cell_type": "markdown",
     "metadata": {},
     "source": [
      "Now we need to descritze our source term $b_{i,j}^n$, using a central scheme??\n",
      "\n",
      "$$b_{i,j}^n = -\\rho \\left[\\frac{1}{\\Delta t} \\left(\\frac{(u_{i+1,j} - u_{i-1,j}}{2\\Delta x} + \\frac{v_{i,j+1} - v_{i,j-1}}{2\\Delta y}\\right) \\frac{u_{i+1,j}^n + u_{i-1,j}^n}{2\\Delta x} \\frac{u_{i+1,j}^n + u_{i-1,j}^n}{2\\Delta x} + 2 \\frac{u_{i,j+1}^n + u_{i,j-1}^n}{2\\Delta y} \\frac{v_{i+1,j}^n + v_{i-1,j}^n}{2\\Delta x} + \\frac{v_{i,j+1}^n + v_{i,j-1}^n}{2\\Delta y} \\frac{v_{i,j+1}^n + v_{i,j-1}^n}{2\\Delta y}\\right] $$\n",
      "\n",
      "Plugging this expression in for $b_{i,j}^n$ and simplfying yields:\n",
      "\n",
      "$$P_{i,j}^n = \\frac{\\left(P_{i+1,j}^n + P_{i-1,j}^n\\right)\\Delta y^2 + \\left(P_{i,j+1}^n + P_{i,j-1}^n\\right)\\Delta x^2}{2\\left(\\Delta x^2 + \\Delta y^2\\right)} - \\frac{\\rho \\Delta x^2 \\Delta y^2}{2\\left(\\Delta x^2 + \\Delta y^2\\right)}\\left[\\frac{1}{\\Delta t} \\left(\\frac{u_{i+1,j} - u_{i-1,j}}{2\\Delta x} + \\frac{v_{i,j+1} - v_{i,j-1}}{2\\Delta y}\\right) - \\frac{u_{i+1,j}^n + u_{i-1,j}^n}{2\\Delta x} \\frac{u_{i+1,j}^n + u_{i-1,j}^n}{2\\Delta x} - 2 \\frac{u_{i,j+1}^n + u_{i,j-1}^n}{2\\Delta y} \\frac{v_{i+1,j}^n + v_{i-1,j}^n}{2\\Delta x} - \\frac{v_{i,j+1}^n + v_{i,j-1}^n}{2\\Delta y} \\frac{v_{i,j+1}^n + v_{i,j-1}^n}{2\\Delta y}\\right]$$"
     ]
    },
    {
     "cell_type": "heading",
     "level": 3,
     "metadata": {},
     "source": [
      "Boundary & Initial Condition Set-up"
     ]
    },
    {
     "cell_type": "markdown",
     "metadata": {},
     "source": [
      "The domain will stretch from 0 to 4 meters in both the x and y directions with the cavity expanding from 0 to 2 meters in the y direction and 1 to 3 in the x direction. This large domain above the cavity is used to capture the acoustic effects we will model later. The flow will be model somewhat similair to a Couette flow with the top of the domain forcing the fluid. Thus we will set are boundary conditions as follows:\n",
      "\n",
      "WRONG!!!!!!!!!!!!!!!!!\n",
      "\n",
      "$u\\left(x,4,t\\right)=1$\n",
      "\n",
      "$u\\left(x,y,t\\right)$ & $v\\left(x,y,t\\right) = 0$ everywhere else\n",
      "\n",
      "$\\frac{\\partial P\\left(x,0,t\\right)}{\\partial y} = 0$\n",
      "\n",
      "$P\\left(x,2,t\\right)=0$\n",
      "\n",
      "$\\frac{\\partial P\\left(0 \\& 4,y,t\\right)}{\\partial x} = 0$\n",
      "\n",
      "Now we are left with the initial conditions which we will set to zero everywhere for $u, v, P$"
     ]
    },
    {
     "cell_type": "heading",
     "level": 4,
     "metadata": {},
     "source": [
      "CFL Conditions"
     ]
    },
    {
     "cell_type": "markdown",
     "metadata": {},
     "source": [
      "All of the equations in this notebook are nonlinear PDE's which means we can't use Von Neumann Stability Analysis. So how do we tell if the system is stable? The are some advanced was to look at stability of nonlinear PDE's involving the eigenvalues of the jacobian, but for simplicity we will just assume that the CFL number is 1.\n",
      "\n"
     ]
    },
    {
     "cell_type": "heading",
     "level": 2,
     "metadata": {},
     "source": [
      "Code"
     ]
    },
    {
     "cell_type": "markdown",
     "metadata": {},
     "source": [
      "First, we need to import our libraries and we will be using a few new ones for this notebook. These new libraries allow use access to more advanced plotting tools. Feel free to read their documentation online."
     ]
    },
    {
     "cell_type": "code",
     "collapsed": false,
     "input": [
      "import numpy as np\n",
      "from mpl_toolkits.mplot3d import Axes3D\n",
      "from matplotlib import cm\n",
      "import matplotlib.pyplot as plt\n",
      "%matplotlib inline\n",
      "from matplotlib import animation"
     ],
     "language": "python",
     "metadata": {},
     "outputs": [],
     "prompt_number": 175
    },
    {
     "cell_type": "heading",
     "level": 5,
     "metadata": {},
     "source": [
      "Boundary Conditions, Initial conditions, Grid Creation, and Problem Set-up"
     ]
    },
    {
     "cell_type": "code",
     "collapsed": false,
     "input": [
      "nx = 41 #number of x grid points\n",
      "ny = 41 #number of y grid points\n",
      "nt = 500 #number of time steps\n",
      "nit = 50\n",
      "dt = .001 #size of time steps\n",
      "dx = 2.0/(nx-1) #size of x steps\n",
      "dy = 2.0/(ny-1) #size of y steps\n",
      "sigma = 1 #CFL\n",
      "rho = 1 #kg/m^3\n",
      "nu = 1.846*10.0**-5.0 #kg/m s\n",
      "c = 340.29 #m/s\n",
      "\n",
      "x = linspace(0.0,2.0,nx)\n",
      "y = linspace(0.0,2.0,ny)\n",
      "Y,X = np.meshgrid(y,x)\n",
      "\n",
      "u = np.zeros((ny,nx))\n",
      "v = np.zeros((ny,nx))\n",
      "P = np.zeros((ny,nx))\n",
      "b = np.zeros((ny,nx))"
     ],
     "language": "python",
     "metadata": {},
     "outputs": [],
     "prompt_number": 176
    },
    {
     "cell_type": "markdown",
     "metadata": {},
     "source": [
      "We used a new function meshgrid in the last cell you should look it up http://docs.scipy.org/doc/numpy/reference/generated/numpy.meshgrid.html\n",
      "\n",
      "We also did one other new thing did you notice it? We made 2D variables for $u$, $v$, $P$, and $b$. We need to remember what learned in module 4 for 2D arrays. Mainly, that python defines by the y variable first unlike our intuition.\n",
      "\n",
      "You may be wondering why we created an additional $b$ variable. This is to make our lives easier as demonstrate by Professor Barba in her CFDPython class. The Poisson equation is quite long and difficult to code without a typo, so we split it up into two variables. The question is how to split it up? Why not use $b_{i,j}^n$ from the derivation of the equation."
     ]
    },
    {
     "cell_type": "code",
     "collapsed": false,
     "input": [
      "def b_ij(u, v, dx, dy, rho):\n",
      "    \"\"\"Computes the b_ij term in the Poisson equation\n",
      "    \n",
      "    Parameters:\n",
      "    ------\n",
      "    u:    array of float\n",
      "          velocity in the x direction\n",
      "    \n",
      "    v:    array of float\n",
      "          velocity in the y direction\n",
      "    \n",
      "    dx:   float\n",
      "          grid step size\n",
      "        \n",
      "    dy:   float\n",
      "          grid step size\n",
      "          \n",
      "    rho:  float\n",
      "          density of air\n",
      "        \n",
      "    b:    array of float\n",
      "          empty array for function\n",
      "          \n",
      "    Returns:\n",
      "    -------\n",
      "    b:    array of float\n",
      "          b term of Poisson equation\n",
      "    \"\"\"\n",
      "    \n",
      "    b = np.zeros((ny,nx))\n",
      "    #b[1:-1,1:-1] =  rho*(1/dt*((u[2:,1:-1] - u[0:-2,1:-1])/(2*dx) + (v[1:-1,2:] - v[1:-1,0:-2])/(2*dy))-\\\n",
      "      #  ((u[2:,1:-1] - u[0:-2,1:-1])/(2*dx)) * ((u[2:,1:-1] - u[0:-2,1:-1])/(2*dx))-\\\n",
      "       # 2*((u[1:-1,2:] - u[1:-1,0:-2])/(2*dy) * (v[2:,1:-1] - v[0:-2,1:-1])/(2*dx))-\\\n",
      "        #((v[1:-1,2:] - v[1:-1,0:-2])/(2*dy)) * ((v[1:-1,2:] - v[1:-1,0:-2])/(2*dy)))\n",
      "    \n",
      "    b[1:-1,1:-1]=rho*(1/dt*((u[2:,1:-1]-u[0:-2,1:-1])/(2*dx)+(v[1:-1,2:]-v[1:-1,0:-2])/(2*dy))-\\\n",
      "\t\t((u[2:,1:-1]-u[0:-2,1:-1])/(2*dx))**2-\\\n",
      "\t\t2*((u[1:-1,2:]-u[1:-1,0:-2])/(2*dy)*(v[2:,1:-1]-v[0:-2,1:-1])/(2*dx))-\\\n",
      "\t\t((v[1:-1,2:]-v[1:-1,0:-2])/(2*dy))**2)\n",
      "        \n",
      "    return b"
     ],
     "language": "python",
     "metadata": {},
     "outputs": [],
     "prompt_number": 178
    },
    {
     "cell_type": "code",
     "collapsed": false,
     "input": [
      "def Poisson2D(dx, dy, b):\n",
      "    \"\"\"Computes the Poisson equation\n",
      "    \n",
      "    Parameters:\n",
      "    ------\n",
      "    P:    array of float\n",
      "          empty array for function\n",
      "    \n",
      "    dx:   float\n",
      "          grid step size\n",
      "    \n",
      "    dy:   float\n",
      "          grid step size\n",
      "        \n",
      "    b:    array of float\n",
      "          b term of Poisson equation\n",
      "          \n",
      "    Returns:\n",
      "    -------\n",
      "    P:    array of float\n",
      "          Results of Poisson equation\n",
      "    \"\"\"\n",
      "    \n",
      "    Pn = np.zeros((ny,nx))\n",
      "    P = np.zeros((ny,nx))\n",
      "    \n",
      "    for k in range(1,nit):\n",
      "        P[1:-1,1:-1] = ((Pn[2:,1:-1] + Pn[0:-2,1:-1])*dy**2) + ((Pn[1:-1,2:] + Pn[1:-1,0:-2])*dx**2)/(2*(dx**2 + dy**2))-\\\n",
      "            ((dx**2)*(dy**2))/(2*(dx**2 + dy**2)) * b[1:-1,1:-1]\n",
      "\n",
      "        P[-1,:] = P[-2,:] ##dp/dy = 0 at y = 2\n",
      "        P[0,:] = P[1,:]   ##dp/dy = 0 at y = 0\n",
      "        P[:,0] = P[:,1]   ##dp/dx = 0 at x = 0\n",
      "        P[:,-1] = 0       ##p = 0 at x = 2\n",
      "    \n",
      "    return P"
     ],
     "language": "python",
     "metadata": {},
     "outputs": [],
     "prompt_number": 180
    },
    {
     "cell_type": "code",
     "collapsed": false,
     "input": [
      "def Burger2D(u, v, P, dt, dx, dy, rho, nu, nt):\n",
      "    \"\"\"Computes the velocities of the flow\n",
      "    \n",
      "    Parameters:\n",
      "    ------\n",
      "    u:    array of float\n",
      "          velocity in the x direction\n",
      "    \n",
      "    v:    array of float\n",
      "          velocity in the y direction\n",
      "          \n",
      "    P:    array of float\n",
      "          Results of Poisson equation\n",
      "          \n",
      "    dt:   float\n",
      "          time step size\n",
      "    \n",
      "    dx:   float\n",
      "          grid step size\n",
      "    \n",
      "    dy:   float\n",
      "          grid step size\n",
      "          \n",
      "    rho:  float\n",
      "          density of air\n",
      "        \n",
      "    nu:   float\n",
      "          Dynamic viscosity of air\n",
      "          \n",
      "    nt:   float\n",
      "          Number of time steps\n",
      "          \n",
      "    Returns:\n",
      "    -------\n",
      "    u:    array of float\n",
      "          x direction velocities\n",
      "          \n",
      "    v:    array of float\n",
      "          y direction velocities\n",
      "    \"\"\"\n",
      "    un = np.empty_like(u)\n",
      "    vn = np.empty_like(v)\n",
      "    bn = np.zeros((ny,nx))\n",
      "    \n",
      "    for n in range(1,nt):\n",
      "        un = u.copy()\n",
      "        vn = v.copy()\n",
      "        bn = b_ij(u, v, dx, dy, rho)\n",
      "        P = Poisson2D(dx, dy, bn)\n",
      "        \n",
      "        u[1:-1,1:-1] = un[1:-1,1:-1] -\\\n",
      "            (dt/(rho*2*dx))*(P[2:,1:-1] - P[0:-2,1:-1])+\\\n",
      "            (nu*dt/(dx**2))*(un[2:,1:-1] - 2*un[1:-1,1:-1] + un[0:-2,1:-1])+\\\n",
      "            (nu*dt/(dy**2))*(un[1:-1,2:] - 2*un[1:-1,1:-1] + un[1:-1,0:-2])-\\\n",
      "            un[1:-1,1:-1]*(dt/dx)*(un[1:-1,1:-1] - un[0:-2,1:-1])-\\\n",
      "            vn[1:-1,1:-1]*(dt/dy)*(un[1:-1,1:-1] - un[1:-1,0:-2])\n",
      "        #using 2: because 2 values are clipped in j\n",
      "        \n",
      "        v[1:-1,1:-1] = vn[1:-1,1:-1] -\\\n",
      "            (dt/(rho*2*dx))*(P[1:-1,2:] - P[1:-1,0:-2])+\\\n",
      "            (nu*dt/(dx**2))*(vn[2:,1:-1] - 2*vn[1:-1,1:-1] + vn[0:-2,1:-1,])+\\\n",
      "            (nu*dt/(dy**2))*(vn[1:-1,2:] - 2*vn[1:-1,1:-1] + vn[1:-1,0:-2])-\\\n",
      "            un[1:-1,1:-1]*(dt/dx)*(vn[1:-1,1:-1] - vn[0:-2,1:-1])-\\\n",
      "            vn[1:-1,1:-1]*(dt/dy)*(vn[1:-1,1:-1] - un[1:-1,0:-2])\n",
      "        #using 2: because 2 values are clipped in i\n",
      "        \n",
      "        u[0,:] = 0 #assign the clipped values\n",
      "        u[:,0] = 0\n",
      "        u[:,-1] = 1\n",
      "        v[0,:] = 0\n",
      "        v[-1,:]=0\n",
      "        v[:,0] = 0\n",
      "        v[:,-1] = 0\n",
      "        u[-1,:] = 0\n",
      "    \n",
      "    return u, v, P, bn"
     ],
     "language": "python",
     "metadata": {},
     "outputs": [],
     "prompt_number": 182
    },
    {
     "cell_type": "markdown",
     "metadata": {},
     "source": [
      "Next we are going to use Matplotlib's contour plotting ability. Read more about it here\n",
      "http://matplotlib.org/examples/pylab_examples/contour_demo.html."
     ]
    },
    {
     "cell_type": "code",
     "collapsed": false,
     "input": [
      "print(u,v)"
     ],
     "language": "python",
     "metadata": {},
     "outputs": [
      {
       "output_type": "stream",
       "stream": "stdout",
       "text": [
        "(array([[ 0.,  0.,  0., ...,  0.,  0.,  0.],\n",
        "       [ 0.,  0.,  0., ...,  0.,  0.,  0.],\n",
        "       [ 0.,  0.,  0., ...,  0.,  0.,  0.],\n",
        "       ..., \n",
        "       [ 0.,  0.,  0., ...,  0.,  0.,  0.],\n",
        "       [ 0.,  0.,  0., ...,  0.,  0.,  0.],\n",
        "       [ 0.,  0.,  0., ...,  0.,  0.,  0.]]), array([[ 0.,  0.,  0., ...,  0.,  0.,  0.],\n",
        "       [ 0.,  0.,  0., ...,  0.,  0.,  0.],\n",
        "       [ 0.,  0.,  0., ...,  0.,  0.,  0.],\n",
        "       ..., \n",
        "       [ 0.,  0.,  0., ...,  0.,  0.,  0.],\n",
        "       [ 0.,  0.,  0., ...,  0.,  0.,  0.],\n",
        "       [ 0.,  0.,  0., ...,  0.,  0.,  0.]]))\n"
       ]
      }
     ],
     "prompt_number": 184
    },
    {
     "cell_type": "code",
     "collapsed": false,
     "input": [
      "#u = np.zeros((ny,nx))\n",
      "#v = np.zeros((ny,nx))\n",
      "#P = np.zeros((ny,nx))\n",
      "#b = np.zeros((ny,nx))\n",
      "nt = 1000\n",
      "u, v, P, bn = Burger2D(u, v, P, dt, dx, dy, rho, nu, nt)\n",
      "fig = plt.figure(figsize=(11,7), dpi=100)\n",
      "plt.contourf(X,Y,P,alpha=0.5)    ###plotting the pressure field as a contour\n",
      "plt.colorbar()\n",
      "plt.contour(X,Y,P)               ###plotting the pressure field outlines\n",
      "plt.quiver(X[::2,::2],Y[::2,::2],u[::2,::2],v[::2,::2], units='width') ##plotting velocity\n",
      "plt.xlabel('X')\n",
      "plt.ylabel('Y')\n",
      "\n",
      "\n",
      "#figure()\n",
      "#Q = quiver( X, Y, U, V, units='width')\n",
      "#qk = quiverkey(Q, 0.9, 0.95, 2, r'$2 \\frac{m}{s}$',\n",
      "#               labelpos='E',\n",
      "#               coordinates='figure',\n",
      "#               fontproperties={'weight': 'bold'})\n",
      "#axis([-1, 7, -1, 7])\n",
      "#title('scales with plot width, not view')\n"
     ],
     "language": "python",
     "metadata": {},
     "outputs": [
      {
       "output_type": "stream",
       "stream": "stdout",
       "text": [
        "1681\n",
        "1681\n",
        "1681\n"
       ]
      },
      {
       "metadata": {},
       "output_type": "pyout",
       "prompt_number": 199,
       "text": [
        "<matplotlib.text.Text at 0x116f3a58>"
       ]
      },
      {
       "metadata": {},
       "output_type": "display_data",
       "png": "[encoded data removed]",
       "text": [
        "<matplotlib.figure.Figure at 0xf0b3da0>"
       ]
      }
     ],
     "prompt_number": 199
    },
    {
     "cell_type": "code",
     "collapsed": false,
     "input": [
      "print bn"
     ],
     "language": "python",
     "metadata": {},
     "outputs": [
      {
       "output_type": "stream",
       "stream": "stdout",
       "text": [
        "[[ 0.          0.          0.         ...,  0.          0.          0.        ]\n",
        " [ 0.          0.10962566  0.09283728 ..., -0.01643287  2.35226033  0.        ]\n",
        " [ 0.          0.1082972   0.09172741 ...,  0.00978955  1.75621175  0.        ]\n",
        " ..., \n",
        " [ 0.         -0.11456738 -0.09700732 ...,  0.01362886 -1.55790901  0.        ]\n",
        " [ 0.         -0.11617097 -0.09835319 ..., -0.02095937 -2.13227208  0.        ]\n",
        " [ 0.          0.          0.         ...,  0.          0.          0.        ]]\n"
       ]
      }
     ],
     "prompt_number": 198
    },
    {
     "cell_type": "heading",
     "level": 2,
     "metadata": {},
     "source": [
      "Result Confirmation:"
     ]
    },
    {
     "cell_type": "heading",
     "level": 2,
     "metadata": {},
     "source": [
      "2D Acoustic Equation Derivation & Discritization"
     ]
    },
    {
     "cell_type": "markdown",
     "metadata": {},
     "source": [
      "The 2D Acoustic Wave Equation is defined as:\n",
      "\n",
      "$$\\frac{\\partial^2 P}{\\partial x^2} + \\frac{\\partial^2 P}{\\partial y^2} - \\frac{1}{c^2}\\frac{\\partial^2 P}{\\partial t^2} = 0$$\n",
      "\n",
      "With $c$ being the speed of sound. First we should determine what type of error the scheme we will be using will have because we have a term we have not dealt with before-an equation sensitive to the second derivative of time."
     ]
    },
    {
     "cell_type": "markdown",
     "metadata": {},
     "source": [
      "$$\\frac{P_{i+1,j}^n - 2P_{i,j} + P_{i-1,j}^n}{\\Delta x^2} + \\frac{P_{i,j+1}^n - 2P_{i,j} + P_{i,j-1}^n}{\\Delta y^2} - \\frac{1}{c^2}\\frac{P_{i,j}^{n+1} - 2P_{i,j}^n + P_{i,j}^{n-1}}{\\Delta t^2} = 0$$\n",
      "\n",
      "$$P_{i,j}^{n+1} = \\frac{c^2\\Delta t^2}{\\Delta x^2}\\left(P_{i+1,j}^n - 2P_{i,j}^n + P_{i-1,j}^n\\right) + \\frac{c^2\\Delta t^2}{\\Delta y^2}\\left(P_{i,j+1}^n - 2P_{i,j}^n + P_{i,j-1}^n\\right) + 2P_{i,j}^n - P_{i,j}^{n-1}$$\n",
      "\n",
      "Now we have a new problem, we have a $n-1$ time step that means we need a special way to start off the solution."
     ]
    },
    {
     "cell_type": "markdown",
     "metadata": {},
     "source": [
      "$P_{i,j}^{n+1}$ can be found by performing a 3 term taylor series expansion as demonstrated by classmate Matt Bornemeier in his final project using the work of John Strikwerda.\n",
      "\n",
      "$$P_{i,j}^n = P_{i,j} + \\Delta t \\frac{\\partial P}{\\partial t} + \\frac{1}{2}\\Delta t^2 \\frac{\\partial^2 P}{\\partial t^2} + O\\left(\\Delta t^3 \\right)$$\n",
      "\n",
      "We can rearrange our 2D acoustic equation to yield:\n",
      "\n",
      "$$\\frac{\\partial^2 P}{\\partial t^2} = c^2 \\frac{\\partial^2 P}{\\partial x} + c^2 \\frac{\\partial^2 P}{\\partial y}$$\n",
      "\n",
      "Now we can use this relation to start off the solution at the first time step."
     ]
    },
    {
     "cell_type": "code",
     "collapsed": false,
     "input": [
      "P_a = np.zeros((ny,nx)) #initiate 2D array for acoustics"
     ],
     "language": "python",
     "metadata": {},
     "outputs": [],
     "prompt_number": 187
    },
    {
     "cell_type": "code",
     "collapsed": false,
     "input": [
      "def Acoustics2D(P_a, c, dt, dx, dy, P):\n",
      "    \"\"\"Computes the fluid flow over a cavity\n",
      "    \n",
      "    Parameters:\n",
      "    ------          \n",
      "    P_a:  array of float\n",
      "          empty array for acoustic pressure waves\n",
      "          \n",
      "          \n",
      "    c:    float\n",
      "          speed of sound\n",
      "          \n",
      "    dt:   float\n",
      "          time step size\n",
      "    \n",
      "    dx:   float\n",
      "          grid step size\n",
      "    \n",
      "    dy:   float\n",
      "          grid step size\n",
      "          \n",
      "    P:    array of float\n",
      "          Results of Poisson equation \n",
      "\n",
      "          \n",
      "    Returns:\n",
      "    -------          \n",
      "    P_a:  array of float\n",
      "          Acoustic distribution for cavity flow\n",
      "    \"\"\"\n",
      "    \n",
      "    return P_a"
     ],
     "language": "python",
     "metadata": {},
     "outputs": [],
     "prompt_number": 188
    },
    {
     "cell_type": "code",
     "collapsed": false,
     "input": [
      "def CavityFlowAcoustics(u, v, P, dt, dx, dy, rho, nu, nt, nx, ny, c):\n",
      "    \"\"\"Computes the fluid flow over a cavity\n",
      "    \n",
      "    Parameters:\n",
      "    ------\n",
      "    u:    array of float\n",
      "          velocity in the x direction\n",
      "    \n",
      "    v:    array of float\n",
      "          velocity in the y direction\n",
      "          \n",
      "    P:    array of float\n",
      "          Results of Poisson equation   \n",
      "          \n",
      "    dt:   float\n",
      "          time step size\n",
      "    \n",
      "    dx:   float\n",
      "          grid step size\n",
      "    \n",
      "    dy:   float\n",
      "          grid step size\n",
      "          \n",
      "    rho:  float\n",
      "          density of air        \n",
      "          \n",
      "    nu:   float\n",
      "          Dynamic viscosity of air\n",
      "          \n",
      "    nt:   float\n",
      "          Number of time steps\n",
      "          \n",
      "    nx:   float\n",
      "          Number of x direction steps\n",
      "          \n",
      "    ny:   float\n",
      "          Number of y direction steps\n",
      "          \n",
      "    c:    float\n",
      "          speed of sound\n",
      "\n",
      "          \n",
      "    Returns:\n",
      "    -------\n",
      "    u:    array of float\n",
      "          u velocity for cavity flow\n",
      "          \n",
      "    v:    array of float\n",
      "          v velocity for cavity flow\n",
      "          \n",
      "    P:    array of float\n",
      "          Pressure distribution for cavity flow\n",
      "          \n",
      "    P_a:  array of float\n",
      "          Acoustic distribution for cavity flow\n",
      "    \"\"\"\n",
      "    \n",
      "    return u, v, P, P_a"
     ],
     "language": "python",
     "metadata": {},
     "outputs": [],
     "prompt_number": 189
    },
    {
     "cell_type": "code",
     "collapsed": false,
     "input": [
      "u, v, P, P_a = CavityFlowAcoustics(u, v, P, dt, dx, dy, rho, nu, nt, nx, ny, c)\n",
      "fig = plt.figure(figsize=(11,7), dpi=100)\n",
      "plt.contourf(X,Y,P,alpha=0.5)    ###plottong the pressure field as a contour\n",
      "plt.colorbar()\n",
      "plt.contour(X,Y,P)               ###plotting the pressure field outlines\n",
      "plt.quiver(X[::2,::2],Y[::2,::2],u[::2,::2],v[::2,::2]) ##plotting velocity\n",
      "plt.xlabel('X')\n",
      "plt.ylabel('Y')"
     ],
     "language": "python",
     "metadata": {},
     "outputs": [
      {
       "metadata": {},
       "output_type": "pyout",
       "prompt_number": 190,
       "text": [
        "<matplotlib.text.Text at 0xf215e10>"
       ]
      },
      {
       "metadata": {},
       "output_type": "display_data",
       "png": "[encoded data removed]",
       "text": [
        "<matplotlib.figure.Figure at 0xf1fe6d8>"
       ]
      }
     ],
     "prompt_number": 190
    },
    {
     "cell_type": "heading",
     "level": 2,
     "metadata": {},
     "source": [
      "Result Confirmation:"
     ]
    },
    {
     "cell_type": "heading",
     "level": 2,
     "metadata": {},
     "source": [
      "References:"
     ]
    },
    {
     "cell_type": "markdown",
     "metadata": {},
     "source": [
      "Strikwerda, John C. \"Finite Difference Schemes and Partial Differential Equations\", Wadsworth & Brooks/Cole Advanced Books & Software, Belmont, CA, 1989\n",
      "\n",
      "Matt's ipython notebook\n",
      "\n",
      "FLuids Textbook\n",
      "\n",
      "BArba CFD Class\n",
      "\n",
      "CFD Textbook Anderson"
     ]
    },
    {
     "cell_type": "code",
     "collapsed": false,
     "input": [
      "from IPython.core.display import HTML\n",
      "css_file = 'numericalmoocstyle.css'\n",
      "HTML(open(css_file, \"r\").read())"
     ],
     "language": "python",
     "metadata": {},
     "outputs": [
      {
       "html": [
        "<link href='http://fonts.googleapis.com/css?family=Alegreya+Sans:100,300,400,500,700,800,900,100italic,300italic,400italic,500italic,700italic,800italic,900italic' rel='stylesheet' type='text/css'>\n",
        "<link href='http://fonts.googleapis.com/css?family=Arvo:400,700,400italic' rel='stylesheet' type='text/css'>\n",
        "<link href='http://fonts.googleapis.com/css?family=PT+Mono' rel='stylesheet' type='text/css'>\n",
        "<link href='http://fonts.googleapis.com/css?family=Shadows+Into+Light' rel='stylesheet' type='text/css'>\n",
        "<link href='http://fonts.googleapis.com/css?family=Nixie+One' rel='stylesheet' type='text/css'>\n",
        "<style>\n",
        "\n",
        "@font-face {\n",
        "    font-family: \"Computer Modern\";\n",
        "    src: url('http://mirrors.ctan.org/fonts/cm-unicode/fonts/otf/cmunss.otf');\n",
        "}\n",
        "\n",
        "#notebook_panel { /* main background */\n",
        "    background: rgb(245,245,245);\n",
        "}\n",
        "\n",
        "div.cell { /* set cell width */\n",
        "    width: 750px;\n",
        "}\n",
        "\n",
        "div #notebook { /* centre the content */\n",
        "    background: #fff; /* white background for content */\n",
        "    width: 1000px;\n",
        "    margin: auto;\n",
        "    padding-left: 0em;\n",
        "}\n",
        "\n",
        "#notebook li { /* More space between bullet points */\n",
        "margin-top:0.8em;\n",
        "}\n",
        "\n",
        "/* draw border around running cells */\n",
        "div.cell.border-box-sizing.code_cell.running { \n",
        "    border: 1px solid #111;\n",
        "}\n",
        "\n",
        "/* Put a solid color box around each cell and its output, visually linking them*/\n",
        "div.cell.code_cell {\n",
        "    background-color: rgb(256,256,256); \n",
        "    border-radius: 0px; \n",
        "    padding: 0.5em;\n",
        "    margin-left:1em;\n",
        "    margin-top: 1em;\n",
        "}\n",
        "\n",
        "div.text_cell_render{\n",
        "    font-family: 'Alegreya Sans' sans-serif;\n",
        "    line-height: 140%;\n",
        "    font-size: 125%;\n",
        "    font-weight: 400;\n",
        "    width:600px;\n",
        "    margin-left:auto;\n",
        "    margin-right:auto;\n",
        "}\n",
        "\n",
        "\n",
        "/* Formatting for header cells */\n",
        ".text_cell_render h1 {\n",
        "    font-family: 'Nixie One', serif;\n",
        "    font-style:regular;\n",
        "    font-weight: 400;    \n",
        "    font-size: 45pt;\n",
        "    line-height: 100%;\n",
        "    color: rgb(0,51,102);\n",
        "    margin-bottom: 0.5em;\n",
        "    margin-top: 0.5em;\n",
        "    display: block;\n",
        "}\t\n",
        ".text_cell_render h2 {\n",
        "    font-family: 'Nixie One', serif;\n",
        "    font-weight: 400;\n",
        "    font-size: 30pt;\n",
        "    line-height: 100%;\n",
        "    color: rgb(0,51,102);\n",
        "    margin-bottom: 0.1em;\n",
        "    margin-top: 0.3em;\n",
        "    display: block;\n",
        "}\t\n",
        "\n",
        ".text_cell_render h3 {\n",
        "    font-family: 'Nixie One', serif;\n",
        "    margin-top:16px;\n",
        "\tfont-size: 22pt;\n",
        "    font-weight: 600;\n",
        "    margin-bottom: 3px;\n",
        "    font-style: regular;\n",
        "    color: rgb(102,102,0);\n",
        "}\n",
        "\n",
        ".text_cell_render h4 {    /*Use this for captions*/\n",
        "    font-family: 'Nixie One', serif;\n",
        "    font-size: 14pt;\n",
        "    text-align: center;\n",
        "    margin-top: 0em;\n",
        "    margin-bottom: 2em;\n",
        "    font-style: regular;\n",
        "}\n",
        "\n",
        ".text_cell_render h5 {  /*Use this for small titles*/\n",
        "    font-family: 'Nixie One', sans-serif;\n",
        "    font-weight: 400;\n",
        "    font-size: 16pt;\n",
        "    color: rgb(163,0,0);\n",
        "    font-style: italic;\n",
        "    margin-bottom: .1em;\n",
        "    margin-top: 0.8em;\n",
        "    display: block;\n",
        "}\n",
        "\n",
        ".text_cell_render h6 { /*use this for copyright note*/\n",
        "    font-family: 'PT Mono', sans-serif;\n",
        "    font-weight: 300;\n",
        "    font-size: 9pt;\n",
        "    line-height: 100%;\n",
        "    color: grey;\n",
        "    margin-bottom: 1px;\n",
        "    margin-top: 1px;\n",
        "}\n",
        "\n",
        ".CodeMirror{\n",
        "        font-family: \"PT Mono\";\n",
        "        font-size: 90%;\n",
        "}\n",
        "\n",
        "</style>\n",
        "<script>\n",
        "    MathJax.Hub.Config({\n",
        "                        TeX: {\n",
        "                           extensions: [\"AMSmath.js\"],\n",
        "                           equationNumbers: { autoNumber: \"AMS\", useLabelIds: true}\n",
        "                           },\n",
        "                tex2jax: {\n",
        "                    inlineMath: [ ['$','$'], [\"\\\\(\",\"\\\\)\"] ],\n",
        "                    displayMath: [ ['$$','$$'], [\"\\\\[\",\"\\\\]\"] ]\n",
        "                },\n",
        "                displayAlign: 'center', // Change this to 'center' to center equations.\n",
        "                \"HTML-CSS\": {\n",
        "                    styles: {'.MathJax_Display': {\"margin\": 4}}\n",
        "                }\n",
        "        });\n",
        "</script>\n"
       ],
       "metadata": {},
       "output_type": "pyout",
       "prompt_number": 191,
       "text": [
        "<IPython.core.display.HTML at 0xdcf30b8>"
       ]
      }
     ],
     "prompt_number": 191
    },
    {
     "cell_type": "markdown",
     "metadata": {},
     "source": [
      "Gilbert Comments:\n",
      "\n",
      "Check NS solver w/ Kim and Moin\n",
      "\n",
      "Check acoustic solver\n",
      "\n",
      "find source for $b_{i,j}$ term use barba or her source"
     ]
    },
    {
     "cell_type": "code",
     "collapsed": false,
     "input": [],
     "language": "python",
     "metadata": {},
     "outputs": [],
     "prompt_number": 191
    }
   ],
   "metadata": {}
  }
 ]
}